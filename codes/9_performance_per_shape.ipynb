{
 "cells": [
  {
   "cell_type": "code",
   "execution_count": 1,
   "metadata": {},
   "outputs": [
    {
     "name": "stderr",
     "output_type": "stream",
     "text": [
      "/Users/lorenzocesconetto/Desktop/ITAU-ANALYTICS/Skin-Cancer/skin_env/lib/python3.7/site-packages/tensorflow/python/framework/dtypes.py:526: FutureWarning: Passing (type, 1) or '1type' as a synonym of type is deprecated; in a future version of numpy, it will be understood as (type, (1,)) / '(1,)type'.\n",
      "  _np_qint8 = np.dtype([(\"qint8\", np.int8, 1)])\n",
      "/Users/lorenzocesconetto/Desktop/ITAU-ANALYTICS/Skin-Cancer/skin_env/lib/python3.7/site-packages/tensorflow/python/framework/dtypes.py:527: FutureWarning: Passing (type, 1) or '1type' as a synonym of type is deprecated; in a future version of numpy, it will be understood as (type, (1,)) / '(1,)type'.\n",
      "  _np_quint8 = np.dtype([(\"quint8\", np.uint8, 1)])\n",
      "/Users/lorenzocesconetto/Desktop/ITAU-ANALYTICS/Skin-Cancer/skin_env/lib/python3.7/site-packages/tensorflow/python/framework/dtypes.py:528: FutureWarning: Passing (type, 1) or '1type' as a synonym of type is deprecated; in a future version of numpy, it will be understood as (type, (1,)) / '(1,)type'.\n",
      "  _np_qint16 = np.dtype([(\"qint16\", np.int16, 1)])\n",
      "/Users/lorenzocesconetto/Desktop/ITAU-ANALYTICS/Skin-Cancer/skin_env/lib/python3.7/site-packages/tensorflow/python/framework/dtypes.py:529: FutureWarning: Passing (type, 1) or '1type' as a synonym of type is deprecated; in a future version of numpy, it will be understood as (type, (1,)) / '(1,)type'.\n",
      "  _np_quint16 = np.dtype([(\"quint16\", np.uint16, 1)])\n",
      "/Users/lorenzocesconetto/Desktop/ITAU-ANALYTICS/Skin-Cancer/skin_env/lib/python3.7/site-packages/tensorflow/python/framework/dtypes.py:530: FutureWarning: Passing (type, 1) or '1type' as a synonym of type is deprecated; in a future version of numpy, it will be understood as (type, (1,)) / '(1,)type'.\n",
      "  _np_qint32 = np.dtype([(\"qint32\", np.int32, 1)])\n",
      "/Users/lorenzocesconetto/Desktop/ITAU-ANALYTICS/Skin-Cancer/skin_env/lib/python3.7/site-packages/tensorflow/python/framework/dtypes.py:535: FutureWarning: Passing (type, 1) or '1type' as a synonym of type is deprecated; in a future version of numpy, it will be understood as (type, (1,)) / '(1,)type'.\n",
      "  np_resource = np.dtype([(\"resource\", np.ubyte, 1)])\n"
     ]
    }
   ],
   "source": [
    "import glob\n",
    "import matplotlib.pyplot as plt\n",
    "\n",
    "import tensorflow\n",
    "from tensorflow.keras.models import load_model\n",
    "import numpy as np\n",
    "import pandas as pd\n",
    "import cv2"
   ]
  },
  {
   "cell_type": "code",
   "execution_count": 2,
   "metadata": {},
   "outputs": [],
   "source": [
    "mel_imgs_name = glob.glob('../data_processed/test/mel/*.jpg')\n",
    "non_mel_imgs_name = glob.glob('../data_processed/test/other/*.jpg')"
   ]
  },
  {
   "cell_type": "code",
   "execution_count": 3,
   "metadata": {},
   "outputs": [],
   "source": [
    "mel_name_2_dim = {x.split('/')[-1]: plt.imread('../ISIC-2019/ISIC_2019_Training_Input/' + \n",
    "                                           x.split('/')[-1]).shape for x in mel_imgs_name}"
   ]
  },
  {
   "cell_type": "code",
   "execution_count": 4,
   "metadata": {},
   "outputs": [],
   "source": [
    "non_mel_name_2_dim = {x.split('/')[-1]: plt.imread('../ISIC-2019/ISIC_2019_Training_Input/' + \n",
    "                                           x.split('/')[-1]).shape for x in non_mel_imgs_name}"
   ]
  },
  {
   "cell_type": "markdown",
   "metadata": {},
   "source": [
    "### 0. Dark padding - All images"
   ]
  },
  {
   "cell_type": "code",
   "execution_count": 5,
   "metadata": {},
   "outputs": [
    {
     "name": "stdout",
     "output_type": "stream",
     "text": [
      "WARNING:tensorflow:From /Users/lorenzocesconetto/Desktop/ITAU-ANALYTICS/Skin-Cancer/skin_env/lib/python3.7/site-packages/tensorflow/python/ops/resource_variable_ops.py:435: colocate_with (from tensorflow.python.framework.ops) is deprecated and will be removed in a future version.\n",
      "Instructions for updating:\n",
      "Colocations handled automatically by placer.\n",
      "WARNING:tensorflow:From /Users/lorenzocesconetto/Desktop/ITAU-ANALYTICS/Skin-Cancer/skin_env/lib/python3.7/site-packages/tensorflow/python/keras/layers/core.py:143: calling dropout (from tensorflow.python.ops.nn_ops) with keep_prob is deprecated and will be removed in a future version.\n",
      "Instructions for updating:\n",
      "Please use `rate` instead of `keep_prob`. Rate should be set to `rate = 1 - keep_prob`.\n"
     ]
    }
   ],
   "source": [
    "vgg = load_model('../saved_models/VGG_v1_auc_0.897.h5', compile=False)"
   ]
  },
  {
   "cell_type": "markdown",
   "metadata": {},
   "source": [
    "#### 0.1. Melanoma"
   ]
  },
  {
   "cell_type": "code",
   "execution_count": 6,
   "metadata": {},
   "outputs": [],
   "source": [
    "mel_shape_2_scores = {x: [] for x in list(set(mel_name_2_dim.values()))}\n",
    "\n",
    "for img_name in mel_imgs_name:\n",
    "    img = tensorflow.keras.applications.vgg16.preprocess_input(plt.imread(img_name))\n",
    "    img = np.expand_dims(img, axis=0)\n",
    "    mel_shape_2_scores[mel_name_2_dim[img_name.split('/')[-1]]].append(vgg.predict(img))"
   ]
  },
  {
   "cell_type": "code",
   "execution_count": 7,
   "metadata": {},
   "outputs": [],
   "source": [
    "mel_shape_2_statistics = {}\n",
    "for key, value in mel_shape_2_scores.items():\n",
    "    avg = np.mean(value)\n",
    "    std = np.std(value)\n",
    "    mel_shape_2_statistics[key] = {'total': len(value), 'avg': avg, 'std': std }"
   ]
  },
  {
   "cell_type": "code",
   "execution_count": 8,
   "metadata": {},
   "outputs": [
    {
     "data": {
      "text/html": [
       "<div>\n",
       "<style scoped>\n",
       "    .dataframe tbody tr th:only-of-type {\n",
       "        vertical-align: middle;\n",
       "    }\n",
       "\n",
       "    .dataframe tbody tr th {\n",
       "        vertical-align: top;\n",
       "    }\n",
       "\n",
       "    .dataframe thead th {\n",
       "        text-align: right;\n",
       "    }\n",
       "</style>\n",
       "<table border=\"1\" class=\"dataframe\">\n",
       "  <thead>\n",
       "    <tr style=\"text-align: right;\">\n",
       "      <th></th>\n",
       "      <th></th>\n",
       "      <th></th>\n",
       "      <th>total</th>\n",
       "      <th>avg</th>\n",
       "      <th>std</th>\n",
       "    </tr>\n",
       "  </thead>\n",
       "  <tbody>\n",
       "    <tr>\n",
       "      <td>1024</td>\n",
       "      <td>1024</td>\n",
       "      <td>3</td>\n",
       "      <td>389.0</td>\n",
       "      <td>0.780731</td>\n",
       "      <td>0.245087</td>\n",
       "    </tr>\n",
       "    <tr>\n",
       "      <td>768</td>\n",
       "      <td>1024</td>\n",
       "      <td>3</td>\n",
       "      <td>20.0</td>\n",
       "      <td>0.683007</td>\n",
       "      <td>0.240395</td>\n",
       "    </tr>\n",
       "    <tr>\n",
       "      <td>450</td>\n",
       "      <td>600</td>\n",
       "      <td>3</td>\n",
       "      <td>168.0</td>\n",
       "      <td>0.681813</td>\n",
       "      <td>0.269838</td>\n",
       "    </tr>\n",
       "    <tr>\n",
       "      <td>680</td>\n",
       "      <td>1024</td>\n",
       "      <td>3</td>\n",
       "      <td>39.0</td>\n",
       "      <td>0.526021</td>\n",
       "      <td>0.246804</td>\n",
       "    </tr>\n",
       "  </tbody>\n",
       "</table>\n",
       "</div>"
      ],
      "text/plain": [
       "             total       avg       std\n",
       "1024 1024 3  389.0  0.780731  0.245087\n",
       "768  1024 3   20.0  0.683007  0.240395\n",
       "450  600  3  168.0  0.681813  0.269838\n",
       "680  1024 3   39.0  0.526021  0.246804"
      ]
     },
     "execution_count": 8,
     "metadata": {},
     "output_type": "execute_result"
    }
   ],
   "source": [
    "df = pd.DataFrame(mel_shape_2_statistics).transpose()\n",
    "df = df[df['total'] >= 20]\n",
    "df.sort_values('avg', ascending=False)"
   ]
  },
  {
   "cell_type": "markdown",
   "metadata": {},
   "source": [
    "#### 0.2. Non-Melanoma"
   ]
  },
  {
   "cell_type": "code",
   "execution_count": 10,
   "metadata": {},
   "outputs": [],
   "source": [
    "non_mel_shape_2_scores = {x: [] for x in list(set(non_mel_name_2_dim.values()))}\n",
    "\n",
    "for img_name in non_mel_imgs_name:\n",
    "    img = tensorflow.keras.applications.vgg16.preprocess_input(plt.imread(img_name))\n",
    "    img = np.expand_dims(img, axis=0)\n",
    "    non_mel_shape_2_scores[non_mel_name_2_dim[img_name.split('/')[-1]]].append(vgg.predict(img))"
   ]
  },
  {
   "cell_type": "code",
   "execution_count": 12,
   "metadata": {},
   "outputs": [],
   "source": [
    "non_mel_shape_2_statistics = {}\n",
    "for key, value in non_mel_shape_2_scores.items():\n",
    "    avg = np.mean(value)\n",
    "    std = np.std(value)\n",
    "    non_mel_shape_2_statistics[key] = {'total': len(value), 'avg': avg, 'std': std }"
   ]
  },
  {
   "cell_type": "code",
   "execution_count": 13,
   "metadata": {},
   "outputs": [
    {
     "data": {
      "text/html": [
       "<div>\n",
       "<style scoped>\n",
       "    .dataframe tbody tr th:only-of-type {\n",
       "        vertical-align: middle;\n",
       "    }\n",
       "\n",
       "    .dataframe tbody tr th {\n",
       "        vertical-align: top;\n",
       "    }\n",
       "\n",
       "    .dataframe thead th {\n",
       "        text-align: right;\n",
       "    }\n",
       "</style>\n",
       "<table border=\"1\" class=\"dataframe\">\n",
       "  <thead>\n",
       "    <tr style=\"text-align: right;\">\n",
       "      <th></th>\n",
       "      <th></th>\n",
       "      <th></th>\n",
       "      <th>total</th>\n",
       "      <th>avg</th>\n",
       "      <th>std</th>\n",
       "    </tr>\n",
       "  </thead>\n",
       "  <tbody>\n",
       "    <tr>\n",
       "      <td>450</td>\n",
       "      <td>600</td>\n",
       "      <td>3</td>\n",
       "      <td>1321.0</td>\n",
       "      <td>0.242627</td>\n",
       "      <td>0.225292</td>\n",
       "    </tr>\n",
       "    <tr>\n",
       "      <td>685</td>\n",
       "      <td>1024</td>\n",
       "      <td>3</td>\n",
       "      <td>25.0</td>\n",
       "      <td>0.280906</td>\n",
       "      <td>0.168015</td>\n",
       "    </tr>\n",
       "    <tr>\n",
       "      <td>680</td>\n",
       "      <td>1024</td>\n",
       "      <td>3</td>\n",
       "      <td>124.0</td>\n",
       "      <td>0.287031</td>\n",
       "      <td>0.173685</td>\n",
       "    </tr>\n",
       "    <tr>\n",
       "      <td>768</td>\n",
       "      <td>1024</td>\n",
       "      <td>3</td>\n",
       "      <td>86.0</td>\n",
       "      <td>0.411970</td>\n",
       "      <td>0.207259</td>\n",
       "    </tr>\n",
       "    <tr>\n",
       "      <td>1024</td>\n",
       "      <td>1024</td>\n",
       "      <td>3</td>\n",
       "      <td>1372.0</td>\n",
       "      <td>0.438546</td>\n",
       "      <td>0.294494</td>\n",
       "    </tr>\n",
       "  </tbody>\n",
       "</table>\n",
       "</div>"
      ],
      "text/plain": [
       "              total       avg       std\n",
       "450  600  3  1321.0  0.242627  0.225292\n",
       "685  1024 3    25.0  0.280906  0.168015\n",
       "680  1024 3   124.0  0.287031  0.173685\n",
       "768  1024 3    86.0  0.411970  0.207259\n",
       "1024 1024 3  1372.0  0.438546  0.294494"
      ]
     },
     "execution_count": 13,
     "metadata": {},
     "output_type": "execute_result"
    }
   ],
   "source": [
    "df = pd.DataFrame(non_mel_shape_2_statistics).transpose()\n",
    "df = df[df['total'] >= 20]\n",
    "df.sort_values('avg')"
   ]
  },
  {
   "cell_type": "markdown",
   "metadata": {},
   "source": [
    "### 1. Restricted dark padding"
   ]
  },
  {
   "cell_type": "code",
   "execution_count": 2,
   "metadata": {},
   "outputs": [
    {
     "name": "stdout",
     "output_type": "stream",
     "text": [
      "WARNING:tensorflow:From /Users/lorenzocesconetto/Desktop/ITAU-ANALYTICS/Skin-Cancer/skin_env/lib/python3.7/site-packages/tensorflow/python/ops/resource_variable_ops.py:435: colocate_with (from tensorflow.python.framework.ops) is deprecated and will be removed in a future version.\n",
      "Instructions for updating:\n",
      "Colocations handled automatically by placer.\n",
      "WARNING:tensorflow:From /Users/lorenzocesconetto/Desktop/ITAU-ANALYTICS/Skin-Cancer/skin_env/lib/python3.7/site-packages/tensorflow/python/keras/layers/core.py:143: calling dropout (from tensorflow.python.ops.nn_ops) with keep_prob is deprecated and will be removed in a future version.\n",
      "Instructions for updating:\n",
      "Please use `rate` instead of `keep_prob`. Rate should be set to `rate = 1 - keep_prob`.\n"
     ]
    }
   ],
   "source": [
    "vgg = load_model('../saved_models/VGG_v7_auc_0.901.h5', compile=False)"
   ]
  },
  {
   "cell_type": "markdown",
   "metadata": {},
   "source": [
    "#### 1.1. Melanoma"
   ]
  },
  {
   "cell_type": "code",
   "execution_count": 63,
   "metadata": {},
   "outputs": [],
   "source": [
    "shape_2_scores = {x: [] for x in list(set(name_2_dim.values()))}\n",
    "\n",
    "for img_name in imgs_name:\n",
    "    img = tensorflow.keras.applications.vgg16.preprocess_input(plt.imread(img_name))\n",
    "    img = np.expand_dims(img, axis=0)\n",
    "    shape_2_scores[name_2_dim[img_name.split('/')[-1]]].append(vgg.predict(img))"
   ]
  },
  {
   "cell_type": "code",
   "execution_count": 64,
   "metadata": {},
   "outputs": [],
   "source": [
    "shape_2_statistics = {}\n",
    "for key, value in shape_2_scores.items():\n",
    "    avg = np.mean(value)\n",
    "    std = np.std(value)\n",
    "    shape_2_statistics[key] = {'total': len(value), 'avg': avg, 'std': std }"
   ]
  },
  {
   "cell_type": "code",
   "execution_count": 65,
   "metadata": {},
   "outputs": [
    {
     "data": {
      "text/html": [
       "<div>\n",
       "<style scoped>\n",
       "    .dataframe tbody tr th:only-of-type {\n",
       "        vertical-align: middle;\n",
       "    }\n",
       "\n",
       "    .dataframe tbody tr th {\n",
       "        vertical-align: top;\n",
       "    }\n",
       "\n",
       "    .dataframe thead th {\n",
       "        text-align: right;\n",
       "    }\n",
       "</style>\n",
       "<table border=\"1\" class=\"dataframe\">\n",
       "  <thead>\n",
       "    <tr style=\"text-align: right;\">\n",
       "      <th></th>\n",
       "      <th></th>\n",
       "      <th></th>\n",
       "      <th>total</th>\n",
       "      <th>avg</th>\n",
       "      <th>std</th>\n",
       "    </tr>\n",
       "  </thead>\n",
       "  <tbody>\n",
       "    <tr>\n",
       "      <td>450</td>\n",
       "      <td>600</td>\n",
       "      <td>3</td>\n",
       "      <td>168.0</td>\n",
       "      <td>0.826100</td>\n",
       "      <td>0.230404</td>\n",
       "    </tr>\n",
       "    <tr>\n",
       "      <td>768</td>\n",
       "      <td>1024</td>\n",
       "      <td>3</td>\n",
       "      <td>20.0</td>\n",
       "      <td>0.806100</td>\n",
       "      <td>0.230702</td>\n",
       "    </tr>\n",
       "    <tr>\n",
       "      <td>1024</td>\n",
       "      <td>1024</td>\n",
       "      <td>3</td>\n",
       "      <td>389.0</td>\n",
       "      <td>0.846299</td>\n",
       "      <td>0.218769</td>\n",
       "    </tr>\n",
       "    <tr>\n",
       "      <td>680</td>\n",
       "      <td>1024</td>\n",
       "      <td>3</td>\n",
       "      <td>39.0</td>\n",
       "      <td>0.562991</td>\n",
       "      <td>0.317695</td>\n",
       "    </tr>\n",
       "  </tbody>\n",
       "</table>\n",
       "</div>"
      ],
      "text/plain": [
       "             total       avg       std\n",
       "450  600  3  168.0  0.826100  0.230404\n",
       "768  1024 3   20.0  0.806100  0.230702\n",
       "1024 1024 3  389.0  0.846299  0.218769\n",
       "680  1024 3   39.0  0.562991  0.317695"
      ]
     },
     "execution_count": 65,
     "metadata": {},
     "output_type": "execute_result"
    }
   ],
   "source": [
    "df = pd.DataFrame(shape_2_statistics).transpose()\n",
    "df = df[df['total'] >= 20]\n",
    "df"
   ]
  },
  {
   "cell_type": "markdown",
   "metadata": {},
   "source": [
    "#### 1.2. Non-Melanoma"
   ]
  },
  {
   "cell_type": "code",
   "execution_count": 6,
   "metadata": {},
   "outputs": [],
   "source": [
    "shape_2_scores = {x: [] for x in list(set(name_2_dim.values()))}\n",
    "\n",
    "for img_name in imgs_name:\n",
    "    img = tensorflow.keras.applications.vgg16.preprocess_input(plt.imread(img_name))\n",
    "    img = np.expand_dims(img, axis=0)\n",
    "    shape_2_scores[name_2_dim[img_name.split('/')[-1]]].append(vgg.predict(img))"
   ]
  },
  {
   "cell_type": "code",
   "execution_count": 7,
   "metadata": {},
   "outputs": [],
   "source": [
    "shape_2_statistics = {}\n",
    "for key, value in shape_2_scores.items():\n",
    "    avg = np.mean(value)\n",
    "    std = np.std(value)\n",
    "    shape_2_statistics[key] = {'total': len(value), 'avg': avg, 'std': std }"
   ]
  },
  {
   "cell_type": "code",
   "execution_count": 8,
   "metadata": {},
   "outputs": [
    {
     "data": {
      "text/html": [
       "<div>\n",
       "<style scoped>\n",
       "    .dataframe tbody tr th:only-of-type {\n",
       "        vertical-align: middle;\n",
       "    }\n",
       "\n",
       "    .dataframe tbody tr th {\n",
       "        vertical-align: top;\n",
       "    }\n",
       "\n",
       "    .dataframe thead th {\n",
       "        text-align: right;\n",
       "    }\n",
       "</style>\n",
       "<table border=\"1\" class=\"dataframe\">\n",
       "  <thead>\n",
       "    <tr style=\"text-align: right;\">\n",
       "      <th></th>\n",
       "      <th></th>\n",
       "      <th></th>\n",
       "      <th>total</th>\n",
       "      <th>avg</th>\n",
       "      <th>std</th>\n",
       "    </tr>\n",
       "  </thead>\n",
       "  <tbody>\n",
       "    <tr>\n",
       "      <td>450</td>\n",
       "      <td>600</td>\n",
       "      <td>3</td>\n",
       "      <td>1321.0</td>\n",
       "      <td>0.222527</td>\n",
       "      <td>0.282630</td>\n",
       "    </tr>\n",
       "    <tr>\n",
       "      <td>685</td>\n",
       "      <td>1024</td>\n",
       "      <td>3</td>\n",
       "      <td>25.0</td>\n",
       "      <td>0.225676</td>\n",
       "      <td>0.249091</td>\n",
       "    </tr>\n",
       "    <tr>\n",
       "      <td>680</td>\n",
       "      <td>1024</td>\n",
       "      <td>3</td>\n",
       "      <td>124.0</td>\n",
       "      <td>0.238784</td>\n",
       "      <td>0.230302</td>\n",
       "    </tr>\n",
       "    <tr>\n",
       "      <td>768</td>\n",
       "      <td>1024</td>\n",
       "      <td>3</td>\n",
       "      <td>86.0</td>\n",
       "      <td>0.450418</td>\n",
       "      <td>0.293636</td>\n",
       "    </tr>\n",
       "    <tr>\n",
       "      <td>1024</td>\n",
       "      <td>1024</td>\n",
       "      <td>3</td>\n",
       "      <td>1372.0</td>\n",
       "      <td>0.462112</td>\n",
       "      <td>0.348896</td>\n",
       "    </tr>\n",
       "  </tbody>\n",
       "</table>\n",
       "</div>"
      ],
      "text/plain": [
       "              total       avg       std\n",
       "450  600  3  1321.0  0.222527  0.282630\n",
       "685  1024 3    25.0  0.225676  0.249091\n",
       "680  1024 3   124.0  0.238784  0.230302\n",
       "768  1024 3    86.0  0.450418  0.293636\n",
       "1024 1024 3  1372.0  0.462112  0.348896"
      ]
     },
     "execution_count": 8,
     "metadata": {},
     "output_type": "execute_result"
    }
   ],
   "source": [
    "df = pd.DataFrame(shape_2_statistics).transpose()\n",
    "df = df[df['total'] >= 20]\n",
    "df.sort_values('avg')"
   ]
  },
  {
   "cell_type": "markdown",
   "metadata": {},
   "source": [
    "### 2. Resizing and deforming images"
   ]
  },
  {
   "cell_type": "code",
   "execution_count": 15,
   "metadata": {},
   "outputs": [],
   "source": [
    "# Resizing VGG_v10_auc_0.877.h5\n",
    "vgg = load_model('../saved_models/VGG_v10_auc_0.890.h5', compile=False)"
   ]
  },
  {
   "cell_type": "markdown",
   "metadata": {},
   "source": [
    "#### 2.1. Melanoma"
   ]
  },
  {
   "cell_type": "code",
   "execution_count": 9,
   "metadata": {},
   "outputs": [],
   "source": [
    "shape_2_scores = {}\n",
    "name_2_dim = {}\n",
    "shapes = set()\n",
    "\n",
    "for img_name in imgs_name:\n",
    "    img = plt.imread('../ISIC-2019/ISIC_2019_Training_Input/' + img_name)\n",
    "    img_shape = img.shape\n",
    "    name_2_dim[img_name] = img_shape\n",
    "    \n",
    "    img = cv2.resize(img, (224, 224))\n",
    "    img = tensorflow.keras.applications.vgg16.preprocess_input(img)\n",
    "    img = np.expand_dims(img, axis=0)\n",
    "    score = vgg.predict(img)\n",
    "    \n",
    "    if img_shape in shapes:\n",
    "        shape_2_scores[img_shape].append(score)\n",
    "    else:\n",
    "        shapes.add(img_shape)\n",
    "        shape_2_scores[img_shape] = [score]\n",
    "    "
   ]
  },
  {
   "cell_type": "code",
   "execution_count": 12,
   "metadata": {},
   "outputs": [],
   "source": [
    "shape_2_statistics = {}\n",
    "for key, value in shape_2_scores.items():\n",
    "    avg = np.mean(value)\n",
    "    std = np.std(value)\n",
    "    shape_2_statistics[key] = {'total': len(value), 'avg': avg, 'std': std }"
   ]
  },
  {
   "cell_type": "code",
   "execution_count": 13,
   "metadata": {},
   "outputs": [
    {
     "data": {
      "text/html": [
       "<div>\n",
       "<style scoped>\n",
       "    .dataframe tbody tr th:only-of-type {\n",
       "        vertical-align: middle;\n",
       "    }\n",
       "\n",
       "    .dataframe tbody tr th {\n",
       "        vertical-align: top;\n",
       "    }\n",
       "\n",
       "    .dataframe thead th {\n",
       "        text-align: right;\n",
       "    }\n",
       "</style>\n",
       "<table border=\"1\" class=\"dataframe\">\n",
       "  <thead>\n",
       "    <tr style=\"text-align: right;\">\n",
       "      <th></th>\n",
       "      <th></th>\n",
       "      <th></th>\n",
       "      <th>total</th>\n",
       "      <th>avg</th>\n",
       "      <th>std</th>\n",
       "    </tr>\n",
       "  </thead>\n",
       "  <tbody>\n",
       "    <tr>\n",
       "      <td>1024</td>\n",
       "      <td>1024</td>\n",
       "      <td>3</td>\n",
       "      <td>389.0</td>\n",
       "      <td>0.787053</td>\n",
       "      <td>0.237618</td>\n",
       "    </tr>\n",
       "    <tr>\n",
       "      <td>450</td>\n",
       "      <td>600</td>\n",
       "      <td>3</td>\n",
       "      <td>168.0</td>\n",
       "      <td>0.737229</td>\n",
       "      <td>0.248183</td>\n",
       "    </tr>\n",
       "    <tr>\n",
       "      <td>680</td>\n",
       "      <td>1024</td>\n",
       "      <td>3</td>\n",
       "      <td>39.0</td>\n",
       "      <td>0.538376</td>\n",
       "      <td>0.248920</td>\n",
       "    </tr>\n",
       "    <tr>\n",
       "      <td>768</td>\n",
       "      <td>1024</td>\n",
       "      <td>3</td>\n",
       "      <td>20.0</td>\n",
       "      <td>0.703303</td>\n",
       "      <td>0.246242</td>\n",
       "    </tr>\n",
       "  </tbody>\n",
       "</table>\n",
       "</div>"
      ],
      "text/plain": [
       "             total       avg       std\n",
       "1024 1024 3  389.0  0.787053  0.237618\n",
       "450  600  3  168.0  0.737229  0.248183\n",
       "680  1024 3   39.0  0.538376  0.248920\n",
       "768  1024 3   20.0  0.703303  0.246242"
      ]
     },
     "execution_count": 13,
     "metadata": {},
     "output_type": "execute_result"
    }
   ],
   "source": [
    "df = pd.DataFrame(shape_2_statistics).transpose()\n",
    "df = df[df['total'] >= 20]\n",
    "df"
   ]
  },
  {
   "cell_type": "markdown",
   "metadata": {},
   "source": [
    "#### 2.2. Non-Melanoma"
   ]
  },
  {
   "cell_type": "code",
   "execution_count": 17,
   "metadata": {},
   "outputs": [],
   "source": [
    "shape_2_scores = {}\n",
    "name_2_dim = {}\n",
    "shapes = set()\n",
    "\n",
    "for img_name in imgs_name:\n",
    "    img = plt.imread('../ISIC-2019/ISIC_2019_Training_Input/' + img_name)\n",
    "    img_shape = img.shape\n",
    "    name_2_dim[img_name] = img_shape\n",
    "    \n",
    "    img = cv2.resize(img, (224, 224))\n",
    "    img = tensorflow.keras.applications.vgg16.preprocess_input(img)\n",
    "    img = np.expand_dims(img, axis=0)\n",
    "    score = vgg.predict(img)\n",
    "    \n",
    "    if img_shape in shapes:\n",
    "        shape_2_scores[img_shape].append(score)\n",
    "    else:\n",
    "        shapes.add(img_shape)\n",
    "        shape_2_scores[img_shape] = [score]\n",
    "    "
   ]
  },
  {
   "cell_type": "code",
   "execution_count": 18,
   "metadata": {},
   "outputs": [],
   "source": [
    "shape_2_statistics = {}\n",
    "for key, value in shape_2_scores.items():\n",
    "    avg = np.mean(value)\n",
    "    std = np.std(value)\n",
    "    shape_2_statistics[key] = {'total': len(value), 'avg': avg, 'std': std }"
   ]
  },
  {
   "cell_type": "code",
   "execution_count": 20,
   "metadata": {},
   "outputs": [
    {
     "data": {
      "text/html": [
       "<div>\n",
       "<style scoped>\n",
       "    .dataframe tbody tr th:only-of-type {\n",
       "        vertical-align: middle;\n",
       "    }\n",
       "\n",
       "    .dataframe tbody tr th {\n",
       "        vertical-align: top;\n",
       "    }\n",
       "\n",
       "    .dataframe thead th {\n",
       "        text-align: right;\n",
       "    }\n",
       "</style>\n",
       "<table border=\"1\" class=\"dataframe\">\n",
       "  <thead>\n",
       "    <tr style=\"text-align: right;\">\n",
       "      <th></th>\n",
       "      <th></th>\n",
       "      <th></th>\n",
       "      <th>total</th>\n",
       "      <th>avg</th>\n",
       "      <th>std</th>\n",
       "    </tr>\n",
       "  </thead>\n",
       "  <tbody>\n",
       "    <tr>\n",
       "      <td>450</td>\n",
       "      <td>600</td>\n",
       "      <td>3</td>\n",
       "      <td>1321.0</td>\n",
       "      <td>0.256238</td>\n",
       "      <td>0.281971</td>\n",
       "    </tr>\n",
       "    <tr>\n",
       "      <td>680</td>\n",
       "      <td>1024</td>\n",
       "      <td>3</td>\n",
       "      <td>124.0</td>\n",
       "      <td>0.276617</td>\n",
       "      <td>0.203529</td>\n",
       "    </tr>\n",
       "    <tr>\n",
       "      <td>685</td>\n",
       "      <td>1024</td>\n",
       "      <td>3</td>\n",
       "      <td>25.0</td>\n",
       "      <td>0.318228</td>\n",
       "      <td>0.214278</td>\n",
       "    </tr>\n",
       "    <tr>\n",
       "      <td>768</td>\n",
       "      <td>1024</td>\n",
       "      <td>3</td>\n",
       "      <td>86.0</td>\n",
       "      <td>0.347700</td>\n",
       "      <td>0.257404</td>\n",
       "    </tr>\n",
       "    <tr>\n",
       "      <td>1024</td>\n",
       "      <td>1024</td>\n",
       "      <td>3</td>\n",
       "      <td>1372.0</td>\n",
       "      <td>0.393807</td>\n",
       "      <td>0.309277</td>\n",
       "    </tr>\n",
       "  </tbody>\n",
       "</table>\n",
       "</div>"
      ],
      "text/plain": [
       "              total       avg       std\n",
       "450  600  3  1321.0  0.256238  0.281971\n",
       "680  1024 3   124.0  0.276617  0.203529\n",
       "685  1024 3    25.0  0.318228  0.214278\n",
       "768  1024 3    86.0  0.347700  0.257404\n",
       "1024 1024 3  1372.0  0.393807  0.309277"
      ]
     },
     "execution_count": 20,
     "metadata": {},
     "output_type": "execute_result"
    }
   ],
   "source": [
    "df = pd.DataFrame(shape_2_statistics).transpose()\n",
    "df = df[df['total'] >= 20]\n",
    "df.sort_values('avg')"
   ]
  },
  {
   "cell_type": "markdown",
   "metadata": {},
   "source": [
    "### 3. Only Squared (1024 x 1024)"
   ]
  },
  {
   "cell_type": "code",
   "execution_count": 14,
   "metadata": {},
   "outputs": [],
   "source": [
    "vgg = load_model('../saved_models/VGG_v17_auc_0.813.h5', compile=False)"
   ]
  },
  {
   "cell_type": "markdown",
   "metadata": {},
   "source": [
    "#### 3.1. Melanoma"
   ]
  },
  {
   "cell_type": "code",
   "execution_count": 15,
   "metadata": {},
   "outputs": [],
   "source": [
    "mel_shape_2_scores = {x: [] for x in list(set(mel_name_2_dim.values()))}\n",
    "\n",
    "for img_name in mel_imgs_name:\n",
    "    img = tensorflow.keras.applications.vgg16.preprocess_input(plt.imread(img_name))\n",
    "    img = np.expand_dims(img, axis=0)\n",
    "    mel_shape_2_scores[mel_name_2_dim[img_name.split('/')[-1]]].append(vgg.predict(img))"
   ]
  },
  {
   "cell_type": "code",
   "execution_count": 16,
   "metadata": {},
   "outputs": [],
   "source": [
    "mel_shape_2_statistics = {}\n",
    "for key, value in mel_shape_2_scores.items():\n",
    "    avg = np.mean(value)\n",
    "    std = np.std(value)\n",
    "    mel_shape_2_statistics[key] = {'total': len(value), 'avg': avg, 'std': std }"
   ]
  },
  {
   "cell_type": "code",
   "execution_count": 17,
   "metadata": {},
   "outputs": [
    {
     "data": {
      "text/html": [
       "<div>\n",
       "<style scoped>\n",
       "    .dataframe tbody tr th:only-of-type {\n",
       "        vertical-align: middle;\n",
       "    }\n",
       "\n",
       "    .dataframe tbody tr th {\n",
       "        vertical-align: top;\n",
       "    }\n",
       "\n",
       "    .dataframe thead th {\n",
       "        text-align: right;\n",
       "    }\n",
       "</style>\n",
       "<table border=\"1\" class=\"dataframe\">\n",
       "  <thead>\n",
       "    <tr style=\"text-align: right;\">\n",
       "      <th></th>\n",
       "      <th></th>\n",
       "      <th></th>\n",
       "      <th>total</th>\n",
       "      <th>avg</th>\n",
       "      <th>std</th>\n",
       "    </tr>\n",
       "  </thead>\n",
       "  <tbody>\n",
       "    <tr>\n",
       "      <td>1024</td>\n",
       "      <td>1024</td>\n",
       "      <td>3</td>\n",
       "      <td>389.0</td>\n",
       "      <td>0.741020</td>\n",
       "      <td>0.243624</td>\n",
       "    </tr>\n",
       "    <tr>\n",
       "      <td>450</td>\n",
       "      <td>600</td>\n",
       "      <td>3</td>\n",
       "      <td>168.0</td>\n",
       "      <td>0.721749</td>\n",
       "      <td>0.225686</td>\n",
       "    </tr>\n",
       "    <tr>\n",
       "      <td>768</td>\n",
       "      <td>1024</td>\n",
       "      <td>3</td>\n",
       "      <td>20.0</td>\n",
       "      <td>0.640181</td>\n",
       "      <td>0.251827</td>\n",
       "    </tr>\n",
       "    <tr>\n",
       "      <td>680</td>\n",
       "      <td>1024</td>\n",
       "      <td>3</td>\n",
       "      <td>39.0</td>\n",
       "      <td>0.300992</td>\n",
       "      <td>0.201099</td>\n",
       "    </tr>\n",
       "  </tbody>\n",
       "</table>\n",
       "</div>"
      ],
      "text/plain": [
       "             total       avg       std\n",
       "1024 1024 3  389.0  0.741020  0.243624\n",
       "450  600  3  168.0  0.721749  0.225686\n",
       "768  1024 3   20.0  0.640181  0.251827\n",
       "680  1024 3   39.0  0.300992  0.201099"
      ]
     },
     "execution_count": 17,
     "metadata": {},
     "output_type": "execute_result"
    }
   ],
   "source": [
    "df = pd.DataFrame(mel_shape_2_statistics).transpose()\n",
    "df = df[df['total'] >= 20]\n",
    "df.sort_values('avg', ascending=False)"
   ]
  },
  {
   "cell_type": "markdown",
   "metadata": {},
   "source": [
    "#### 3.2. Non-Melanoma"
   ]
  },
  {
   "cell_type": "code",
   "execution_count": 18,
   "metadata": {},
   "outputs": [],
   "source": [
    "non_mel_shape_2_scores = {x: [] for x in list(set(non_mel_name_2_dim.values()))}\n",
    "\n",
    "for img_name in non_mel_imgs_name:\n",
    "    img = tensorflow.keras.applications.vgg16.preprocess_input(plt.imread(img_name))\n",
    "    img = np.expand_dims(img, axis=0)\n",
    "    non_mel_shape_2_scores[non_mel_name_2_dim[img_name.split('/')[-1]]].append(vgg.predict(img))"
   ]
  },
  {
   "cell_type": "code",
   "execution_count": 19,
   "metadata": {},
   "outputs": [],
   "source": [
    "non_mel_shape_2_statistics = {}\n",
    "for key, value in non_mel_shape_2_scores.items():\n",
    "    avg = np.mean(value)\n",
    "    std = np.std(value)\n",
    "    non_mel_shape_2_statistics[key] = {'total': len(value), 'avg': avg, 'std': std }"
   ]
  },
  {
   "cell_type": "code",
   "execution_count": 20,
   "metadata": {},
   "outputs": [
    {
     "data": {
      "text/html": [
       "<div>\n",
       "<style scoped>\n",
       "    .dataframe tbody tr th:only-of-type {\n",
       "        vertical-align: middle;\n",
       "    }\n",
       "\n",
       "    .dataframe tbody tr th {\n",
       "        vertical-align: top;\n",
       "    }\n",
       "\n",
       "    .dataframe thead th {\n",
       "        text-align: right;\n",
       "    }\n",
       "</style>\n",
       "<table border=\"1\" class=\"dataframe\">\n",
       "  <thead>\n",
       "    <tr style=\"text-align: right;\">\n",
       "      <th></th>\n",
       "      <th></th>\n",
       "      <th></th>\n",
       "      <th>total</th>\n",
       "      <th>avg</th>\n",
       "      <th>std</th>\n",
       "    </tr>\n",
       "  </thead>\n",
       "  <tbody>\n",
       "    <tr>\n",
       "      <td>680</td>\n",
       "      <td>1024</td>\n",
       "      <td>3</td>\n",
       "      <td>124.0</td>\n",
       "      <td>0.192730</td>\n",
       "      <td>0.143964</td>\n",
       "    </tr>\n",
       "    <tr>\n",
       "      <td>685</td>\n",
       "      <td>1024</td>\n",
       "      <td>3</td>\n",
       "      <td>25.0</td>\n",
       "      <td>0.213216</td>\n",
       "      <td>0.157001</td>\n",
       "    </tr>\n",
       "    <tr>\n",
       "      <td>450</td>\n",
       "      <td>600</td>\n",
       "      <td>3</td>\n",
       "      <td>1321.0</td>\n",
       "      <td>0.402167</td>\n",
       "      <td>0.244968</td>\n",
       "    </tr>\n",
       "    <tr>\n",
       "      <td>1024</td>\n",
       "      <td>1024</td>\n",
       "      <td>3</td>\n",
       "      <td>1372.0</td>\n",
       "      <td>0.403109</td>\n",
       "      <td>0.270736</td>\n",
       "    </tr>\n",
       "    <tr>\n",
       "      <td>768</td>\n",
       "      <td>1024</td>\n",
       "      <td>3</td>\n",
       "      <td>86.0</td>\n",
       "      <td>0.436448</td>\n",
       "      <td>0.251332</td>\n",
       "    </tr>\n",
       "  </tbody>\n",
       "</table>\n",
       "</div>"
      ],
      "text/plain": [
       "              total       avg       std\n",
       "680  1024 3   124.0  0.192730  0.143964\n",
       "685  1024 3    25.0  0.213216  0.157001\n",
       "450  600  3  1321.0  0.402167  0.244968\n",
       "1024 1024 3  1372.0  0.403109  0.270736\n",
       "768  1024 3    86.0  0.436448  0.251332"
      ]
     },
     "execution_count": 20,
     "metadata": {},
     "output_type": "execute_result"
    }
   ],
   "source": [
    "df = pd.DataFrame(non_mel_shape_2_statistics).transpose()\n",
    "df = df[df['total'] >= 20]\n",
    "df.sort_values('avg')"
   ]
  }
 ],
 "metadata": {
  "kernelspec": {
   "display_name": "Python 3",
   "language": "python",
   "name": "python3"
  },
  "language_info": {
   "codemirror_mode": {
    "name": "ipython",
    "version": 3
   },
   "file_extension": ".py",
   "mimetype": "text/x-python",
   "name": "python",
   "nbconvert_exporter": "python",
   "pygments_lexer": "ipython3",
   "version": "3.7.3"
  }
 },
 "nbformat": 4,
 "nbformat_minor": 4
}
