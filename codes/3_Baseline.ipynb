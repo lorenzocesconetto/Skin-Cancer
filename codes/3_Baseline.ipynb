{
 "cells": [
  {
   "cell_type": "markdown",
   "metadata": {},
   "source": [
    "# Notebook 3 - Model baseline"
   ]
  },
  {
   "cell_type": "markdown",
   "metadata": {},
   "source": [
    "### 1. Setup constants"
   ]
  },
  {
   "cell_type": "code",
   "execution_count": 1,
   "metadata": {},
   "outputs": [],
   "source": [
    "# Constants\n",
    "data_original_dir = 'data_original'\n",
    "data_processed_dir = 'data_processed'\n",
    "split_dirs = ['train', 'test', 'validation']\n",
    "diagnostic_classes = ['nv', 'mel', 'bkl', 'bcc', 'akiec', 'vasc', 'df']\n",
    "img_format = 'jpg'\n",
    "\n",
    "labels = [4, 6, 2, 1, 0, 5, 3]\n",
    "label_name = {x: y for x, y in zip(labels, diagnostic_classes)}\n",
    "\n",
    "sorted_labels, sorted_diagnostic_classes = (list(t) for t in zip(*sorted(zip(labels, diagnostic_classes))))"
   ]
  },
  {
   "cell_type": "code",
   "execution_count": 4,
   "metadata": {},
   "outputs": [
    {
     "data": {
      "text/plain": [
       "[0, 1, 2, 3, 4, 5, 6]"
      ]
     },
     "execution_count": 4,
     "metadata": {},
     "output_type": "execute_result"
    },
    {
     "data": {
      "text/plain": [
       "['akiec', 'bcc', 'bkl', 'df', 'nv', 'vasc', 'mel']"
      ]
     },
     "execution_count": 4,
     "metadata": {},
     "output_type": "execute_result"
    }
   ],
   "source": [
    "sorted_labels\n",
    "sorted_diagnostic_classes"
   ]
  },
  {
   "cell_type": "markdown",
   "metadata": {},
   "source": [
    "### 2. Imports and notebook setup"
   ]
  },
  {
   "cell_type": "code",
   "execution_count": 3,
   "metadata": {},
   "outputs": [],
   "source": [
    "# Set up multiple outputs for cells\n",
    "from IPython.core.interactiveshell import InteractiveShell\n",
    "InteractiveShell.ast_node_interactivity = \"all\"\n",
    "\n",
    "# Printing with markdown\n",
    "from IPython.display import Markdown, display\n",
    "def printmd(string):\n",
    "    display(Markdown(string))\n",
    "    \n",
    "import warnings\n",
    "warnings.filterwarnings('ignore')"
   ]
  },
  {
   "cell_type": "code",
   "execution_count": 3,
   "metadata": {},
   "outputs": [],
   "source": [
    "# Default imports\n",
    "import os\n",
    "import random\n",
    "import shutil\n",
    "from glob import glob\n",
    "from send2trash import send2trash\n",
    "import numpy as np\n",
    "import matplotlib.pyplot as plt\n",
    "import pandas as pd\n",
    "import pylab as pl\n",
    "import seaborn as sns\n",
    "import sklearn\n",
    "from sklearn.neighbors import KNeighborsClassifier\n",
    "from sklearn.metrics import confusion_matrix\n",
    "from sklearn.utils.multiclass import unique_labels\n",
    "from sklearn.linear_model import LogisticRegression\n",
    "from sklearn.ensemble import RandomForestClassifier\n",
    "from sklearn.model_selection import GridSearchCV\n",
    "\n",
    "# Magics\n",
    "%matplotlib inline"
   ]
  },
  {
   "cell_type": "code",
   "execution_count": 4,
   "metadata": {},
   "outputs": [],
   "source": [
    "data_processed_dir_path = os.path.join('..', data_processed_dir)\n",
    "data_original_dir_path = os.path.join('..', data_original_dir)\n",
    "\n",
    "train_path = os.path.join(data_processed_dir_path, split_dirs[0])\n",
    "test_path = os.path.join(data_processed_dir_path, split_dirs[1])\n",
    "val_path = os.path.join(data_processed_dir_path, split_dirs[2])"
   ]
  },
  {
   "cell_type": "markdown",
   "metadata": {},
   "source": [
    "### 3. Read data"
   ]
  },
  {
   "cell_type": "code",
   "execution_count": 5,
   "metadata": {},
   "outputs": [],
   "source": [
    "file_rgb = 'hmnist_28_28_RGB.csv'\n",
    "file_gray = 'hmnist_28_28_L.csv'\n",
    "file_reference = 'HAM10000_metadata.csv'"
   ]
  },
  {
   "cell_type": "code",
   "execution_count": 6,
   "metadata": {},
   "outputs": [],
   "source": [
    "df_rgb = pd.read_csv(os.path.join(data_original_dir_path, file_rgb))\n",
    "df_gray = pd.read_csv(os.path.join(data_original_dir_path, file_gray))\n",
    "df_ref = pd.read_csv(os.path.join(data_original_dir_path, file_reference))"
   ]
  },
  {
   "cell_type": "code",
   "execution_count": 7,
   "metadata": {},
   "outputs": [
    {
     "data": {
      "text/html": [
       "<div>\n",
       "<style scoped>\n",
       "    .dataframe tbody tr th:only-of-type {\n",
       "        vertical-align: middle;\n",
       "    }\n",
       "\n",
       "    .dataframe tbody tr th {\n",
       "        vertical-align: top;\n",
       "    }\n",
       "\n",
       "    .dataframe thead th {\n",
       "        text-align: right;\n",
       "    }\n",
       "</style>\n",
       "<table border=\"1\" class=\"dataframe\">\n",
       "  <thead>\n",
       "    <tr style=\"text-align: right;\">\n",
       "      <th></th>\n",
       "      <th>pixel0000</th>\n",
       "      <th>pixel0001</th>\n",
       "      <th>pixel0002</th>\n",
       "      <th>pixel0003</th>\n",
       "      <th>pixel0004</th>\n",
       "      <th>pixel0005</th>\n",
       "      <th>pixel0006</th>\n",
       "      <th>pixel0007</th>\n",
       "      <th>pixel0008</th>\n",
       "      <th>pixel0009</th>\n",
       "      <th>...</th>\n",
       "      <th>pixel2343</th>\n",
       "      <th>pixel2344</th>\n",
       "      <th>pixel2345</th>\n",
       "      <th>pixel2346</th>\n",
       "      <th>pixel2347</th>\n",
       "      <th>pixel2348</th>\n",
       "      <th>pixel2349</th>\n",
       "      <th>pixel2350</th>\n",
       "      <th>pixel2351</th>\n",
       "      <th>label</th>\n",
       "    </tr>\n",
       "  </thead>\n",
       "  <tbody>\n",
       "    <tr>\n",
       "      <th>0</th>\n",
       "      <td>192</td>\n",
       "      <td>153</td>\n",
       "      <td>193</td>\n",
       "      <td>195</td>\n",
       "      <td>155</td>\n",
       "      <td>192</td>\n",
       "      <td>197</td>\n",
       "      <td>154</td>\n",
       "      <td>185</td>\n",
       "      <td>202</td>\n",
       "      <td>...</td>\n",
       "      <td>173</td>\n",
       "      <td>124</td>\n",
       "      <td>138</td>\n",
       "      <td>183</td>\n",
       "      <td>147</td>\n",
       "      <td>166</td>\n",
       "      <td>185</td>\n",
       "      <td>154</td>\n",
       "      <td>177</td>\n",
       "      <td>2</td>\n",
       "    </tr>\n",
       "    <tr>\n",
       "      <th>1</th>\n",
       "      <td>25</td>\n",
       "      <td>14</td>\n",
       "      <td>30</td>\n",
       "      <td>68</td>\n",
       "      <td>48</td>\n",
       "      <td>75</td>\n",
       "      <td>123</td>\n",
       "      <td>93</td>\n",
       "      <td>126</td>\n",
       "      <td>158</td>\n",
       "      <td>...</td>\n",
       "      <td>60</td>\n",
       "      <td>39</td>\n",
       "      <td>55</td>\n",
       "      <td>25</td>\n",
       "      <td>14</td>\n",
       "      <td>28</td>\n",
       "      <td>25</td>\n",
       "      <td>14</td>\n",
       "      <td>27</td>\n",
       "      <td>2</td>\n",
       "    </tr>\n",
       "    <tr>\n",
       "      <th>2</th>\n",
       "      <td>192</td>\n",
       "      <td>138</td>\n",
       "      <td>153</td>\n",
       "      <td>200</td>\n",
       "      <td>145</td>\n",
       "      <td>163</td>\n",
       "      <td>201</td>\n",
       "      <td>142</td>\n",
       "      <td>160</td>\n",
       "      <td>206</td>\n",
       "      <td>...</td>\n",
       "      <td>167</td>\n",
       "      <td>129</td>\n",
       "      <td>143</td>\n",
       "      <td>159</td>\n",
       "      <td>124</td>\n",
       "      <td>142</td>\n",
       "      <td>136</td>\n",
       "      <td>104</td>\n",
       "      <td>117</td>\n",
       "      <td>2</td>\n",
       "    </tr>\n",
       "    <tr>\n",
       "      <th>3</th>\n",
       "      <td>38</td>\n",
       "      <td>19</td>\n",
       "      <td>30</td>\n",
       "      <td>95</td>\n",
       "      <td>59</td>\n",
       "      <td>72</td>\n",
       "      <td>143</td>\n",
       "      <td>103</td>\n",
       "      <td>119</td>\n",
       "      <td>171</td>\n",
       "      <td>...</td>\n",
       "      <td>44</td>\n",
       "      <td>26</td>\n",
       "      <td>36</td>\n",
       "      <td>25</td>\n",
       "      <td>12</td>\n",
       "      <td>17</td>\n",
       "      <td>25</td>\n",
       "      <td>12</td>\n",
       "      <td>15</td>\n",
       "      <td>2</td>\n",
       "    </tr>\n",
       "    <tr>\n",
       "      <th>4</th>\n",
       "      <td>158</td>\n",
       "      <td>113</td>\n",
       "      <td>139</td>\n",
       "      <td>194</td>\n",
       "      <td>144</td>\n",
       "      <td>174</td>\n",
       "      <td>215</td>\n",
       "      <td>162</td>\n",
       "      <td>191</td>\n",
       "      <td>225</td>\n",
       "      <td>...</td>\n",
       "      <td>209</td>\n",
       "      <td>166</td>\n",
       "      <td>185</td>\n",
       "      <td>172</td>\n",
       "      <td>135</td>\n",
       "      <td>149</td>\n",
       "      <td>109</td>\n",
       "      <td>78</td>\n",
       "      <td>92</td>\n",
       "      <td>2</td>\n",
       "    </tr>\n",
       "  </tbody>\n",
       "</table>\n",
       "<p>5 rows × 2353 columns</p>\n",
       "</div>"
      ],
      "text/plain": [
       "   pixel0000  pixel0001  pixel0002  pixel0003  pixel0004  pixel0005  \\\n",
       "0        192        153        193        195        155        192   \n",
       "1         25         14         30         68         48         75   \n",
       "2        192        138        153        200        145        163   \n",
       "3         38         19         30         95         59         72   \n",
       "4        158        113        139        194        144        174   \n",
       "\n",
       "   pixel0006  pixel0007  pixel0008  pixel0009  ...  pixel2343  pixel2344  \\\n",
       "0        197        154        185        202  ...        173        124   \n",
       "1        123         93        126        158  ...         60         39   \n",
       "2        201        142        160        206  ...        167        129   \n",
       "3        143        103        119        171  ...         44         26   \n",
       "4        215        162        191        225  ...        209        166   \n",
       "\n",
       "   pixel2345  pixel2346  pixel2347  pixel2348  pixel2349  pixel2350  \\\n",
       "0        138        183        147        166        185        154   \n",
       "1         55         25         14         28         25         14   \n",
       "2        143        159        124        142        136        104   \n",
       "3         36         25         12         17         25         12   \n",
       "4        185        172        135        149        109         78   \n",
       "\n",
       "   pixel2351  label  \n",
       "0        177      2  \n",
       "1         27      2  \n",
       "2        117      2  \n",
       "3         15      2  \n",
       "4         92      2  \n",
       "\n",
       "[5 rows x 2353 columns]"
      ]
     },
     "execution_count": 7,
     "metadata": {},
     "output_type": "execute_result"
    }
   ],
   "source": [
    "df_rgb.head()"
   ]
  },
  {
   "cell_type": "code",
   "execution_count": 8,
   "metadata": {},
   "outputs": [
    {
     "data": {
      "text/plain": [
       "4    6705\n",
       "6    1113\n",
       "2    1099\n",
       "1     514\n",
       "0     327\n",
       "5     142\n",
       "3     115\n",
       "Name: label, dtype: int64"
      ]
     },
     "execution_count": 8,
     "metadata": {},
     "output_type": "execute_result"
    },
    {
     "data": {
      "text/plain": [
       "nv       6705\n",
       "mel      1113\n",
       "bkl      1099\n",
       "bcc       514\n",
       "akiec     327\n",
       "vasc      142\n",
       "df        115\n",
       "Name: dx, dtype: int64"
      ]
     },
     "execution_count": 8,
     "metadata": {},
     "output_type": "execute_result"
    }
   ],
   "source": [
    "df_rgb.label.value_counts()\n",
    "df_ref.dx.value_counts()"
   ]
  },
  {
   "cell_type": "code",
   "execution_count": 9,
   "metadata": {},
   "outputs": [
    {
     "data": {
      "text/plain": [
       "nv       0.669496\n",
       "mel      0.111133\n",
       "bkl      0.109735\n",
       "bcc      0.051323\n",
       "akiec    0.032651\n",
       "vasc     0.014179\n",
       "df       0.011483\n",
       "Name: dx, dtype: float64"
      ]
     },
     "execution_count": 9,
     "metadata": {},
     "output_type": "execute_result"
    }
   ],
   "source": [
    "df_ref.dx.value_counts() / len(df_ref)"
   ]
  },
  {
   "cell_type": "markdown",
   "metadata": {},
   "source": [
    "### 4. Train test split"
   ]
  },
  {
   "cell_type": "code",
   "execution_count": 10,
   "metadata": {},
   "outputs": [],
   "source": [
    "# Setting random seed for the split\n",
    "random.seed(100)\n",
    "\n",
    "# We're splitting on lesion_id to avoid data leakage\n",
    "test_rate = 0.25\n",
    "lesions = df_ref.lesion_id.unique().tolist()\n",
    "test_size = round(test_rate * len(lesions))\n",
    "\n",
    "test_lesions = random.sample(population=lesions, k=test_size)\n",
    "test_indices = df_ref[df_ref.lesion_id.isin(test_lesions)].index\n",
    "train_indices = df_ref[~df_ref.lesion_id.isin(test_lesions)].index"
   ]
  },
  {
   "cell_type": "code",
   "execution_count": 11,
   "metadata": {},
   "outputs": [],
   "source": [
    "df_rgb_train = df_rgb.iloc[train_indices, :]\n",
    "df_rgb_test = df_rgb.iloc[test_indices, :]\n",
    "\n",
    "df_gray_train = df_gray.iloc[train_indices, :]\n",
    "df_gray_test = df_gray.iloc[test_indices, :]"
   ]
  },
  {
   "cell_type": "code",
   "execution_count": 12,
   "metadata": {},
   "outputs": [],
   "source": [
    "# RGB\n",
    "X_rgb_train = df_rgb_train.drop('label', axis=1)\n",
    "y_rgb_train = df_rgb_train['label']\n",
    "\n",
    "X_rgb_test = df_rgb_test.drop('label', axis=1)\n",
    "y_rgb_test = df_rgb_test['label']\n",
    "\n",
    "# GRAY\n",
    "X_gray_train = df_gray_train.drop('label', axis=1)\n",
    "y_gray_train = df_gray_train['label']\n",
    "\n",
    "X_gray_test = df_gray_test.drop('label', axis=1)\n",
    "y_gray_test = df_gray_test['label']"
   ]
  },
  {
   "cell_type": "markdown",
   "metadata": {},
   "source": [
    "### 5. Define plot function"
   ]
  },
  {
   "cell_type": "code",
   "execution_count": 13,
   "metadata": {},
   "outputs": [],
   "source": [
    "def plot_confusion_matrix(y_true, y_pred, classes,\n",
    "                          normalize=False,\n",
    "                          title=None,\n",
    "                          cmap=plt.cm.Blues):\n",
    "    \"\"\"\n",
    "    This function prints and plots the confusion matrix.\n",
    "    Normalization can be applied by setting `normalize=True`.\n",
    "    \"\"\"\n",
    "    if not title:\n",
    "        if normalize:\n",
    "            title = 'Normalized confusion matrix'\n",
    "        else:\n",
    "            title = 'Confusion matrix, without normalization'\n",
    "\n",
    "    # Compute confusion matrix\n",
    "    cm = confusion_matrix(y_true, y_pred)\n",
    "    # Only use the labels that appear in the data\n",
    "    classes = classes[unique_labels(y_true, y_pred)]\n",
    "    if normalize:\n",
    "        cm = cm.astype('float') / cm.sum(axis=1)[:, np.newaxis]\n",
    "#         print(\"Normalized confusion matrix\")\n",
    "    else:\n",
    "        pass\n",
    "#         print('Confusion matrix, without normalization')\n",
    "\n",
    "#     print(cm.sum(axis=1))\n",
    "\n",
    "    fig, ax = plt.subplots()\n",
    "    im = ax.imshow(cm, interpolation='nearest', cmap=cmap)\n",
    "    ax.figure.colorbar(im, ax=ax)\n",
    "    # We want to show all ticks...\n",
    "    _ = ax.set(xticks=np.arange(cm.shape[1]),\n",
    "           yticks=np.arange(cm.shape[0]),\n",
    "           # ... and label them with the respective list entries\n",
    "           xticklabels=classes, yticklabels=classes,\n",
    "           title=title,\n",
    "           ylabel='True label',\n",
    "           xlabel='Predicted label')\n",
    "\n",
    "    # Rotate the tick labels and set their alignment.\n",
    "    _ = plt.setp(ax.get_xticklabels(), rotation=45, ha=\"right\",\n",
    "             rotation_mode=\"anchor\")\n",
    "\n",
    "    # Loop over data dimensions and create text annotations.\n",
    "    fmt = '.2f' if normalize else 'd'\n",
    "    thresh = cm.max() / 2.\n",
    "    for i in range(cm.shape[0]):\n",
    "        for j in range(cm.shape[1]):\n",
    "            ax.text(j, i, format(cm[i, j], fmt),\n",
    "                    ha=\"center\", va=\"center\",\n",
    "                    color=\"white\" if cm[i, j] > thresh else \"black\")\n",
    "    fig.tight_layout()\n",
    "    return ax"
   ]
  },
  {
   "cell_type": "markdown",
   "metadata": {},
   "source": [
    "### 6. Fit models"
   ]
  },
  {
   "cell_type": "code",
   "execution_count": 14,
   "metadata": {},
   "outputs": [],
   "source": [
    "np.set_printoptions(precision=2)\n",
    "# # Plot non-normalized confusion matrix\n",
    "# _ = plot_confusion_matrix(y_true=y_rgb_test, y_pred=predictions, classes=np.array(names),\n",
    "#                       title='Confusion matrix, without normalization')\n",
    "# # Plot normalized confusion matrix\n",
    "# _ = plot_confusion_matrix(y_true=y_rgb_test, y_pred=predictions, classes=class_names, normalize=True,\n",
    "#                       title='Normalized confusion matrix')\n",
    "# plt.show()"
   ]
  },
  {
   "cell_type": "markdown",
   "metadata": {},
   "source": [
    "#### 6.1 KNN - RGB"
   ]
  },
  {
   "cell_type": "code",
   "execution_count": 15,
   "metadata": {
    "jupyter": {
     "source_hidden": true
    }
   },
   "outputs": [
    {
     "name": "stdout",
     "output_type": "stream",
     "text": [
      "n_neighbors: 1 acc: 0.6572807723250201\n",
      "n_neighbors: 2 acc: 0.6444086886564763\n",
      "n_neighbors: 3 acc: 0.671761866452132\n",
      "n_neighbors: 4 acc: 0.6773934030571199\n",
      "n_neighbors: 5 acc: 0.6810136765888978\n",
      "n_neighbors: 6 acc: 0.6906677393403057\n",
      "n_neighbors: 7 acc: 0.6914722445695897\n",
      "n_neighbors: 8 acc: 0.6914722445695897\n",
      "n_neighbors: 9 acc: 0.6938857602574416\n",
      "n_neighbors: 10 acc: 0.6958970233306516\n",
      "n_neighbors: 11 acc: 0.6995172968624296\n",
      "n_neighbors: 12 acc: 0.6999195494770716\n",
      "n_neighbors: 13 acc: 0.6991150442477876\n",
      "n_neighbors: 14 acc: 0.7003218020917136\n",
      "n_neighbors: 15 acc: 0.6999195494770716\n",
      "n_neighbors: 16 acc: 0.6999195494770716\n",
      "n_neighbors: 17 acc: 0.7023330651649236\n",
      "n_neighbors: 18 acc: 0.7031375703942075\n",
      "n_neighbors: 19 acc: 0.7027353177795655\n",
      "n_neighbors: 20 acc: 0.7007240547063556\n",
      "n_neighbors: 21 acc: 0.6995172968624296\n",
      "n_neighbors: 22 acc: 0.7007240547063556\n",
      "n_neighbors: 23 acc: 0.6991150442477876\n",
      "n_neighbors: 24 acc: 0.7007240547063556\n",
      "n_neighbors: 25 acc: 0.6991150442477876\n"
     ]
    }
   ],
   "source": [
    "for n_neighbors in range(1, 26):\n",
    "    knn_clf = KNeighborsClassifier(n_neighbors=n_neighbors, n_jobs=-1)\n",
    "    _ = knn_clf.fit(X_rgb_train, y_rgb_train)\n",
    "    predictions = knn_clf.predict(X_rgb_test)\n",
    "    print('n_neighbors:', n_neighbors, 'acc:', sklearn.metrics.accuracy_score(y_true=y_rgb_test, y_pred=predictions))"
   ]
  },
  {
   "cell_type": "raw",
   "metadata": {},
   "source": [
    "n_neighbors: 1 acc: 0.6572807723250201\n",
    "n_neighbors: 2 acc: 0.6444086886564763\n",
    "n_neighbors: 3 acc: 0.671761866452132\n",
    "n_neighbors: 4 acc: 0.6773934030571199\n",
    "n_neighbors: 5 acc: 0.6810136765888978\n",
    "n_neighbors: 6 acc: 0.6906677393403057\n",
    "n_neighbors: 7 acc: 0.6914722445695897\n",
    "n_neighbors: 8 acc: 0.6914722445695897\n",
    "n_neighbors: 9 acc: 0.6938857602574416\n",
    "n_neighbors: 10 acc: 0.6958970233306516\n",
    "n_neighbors: 11 acc: 0.6995172968624296\n",
    "n_neighbors: 12 acc: 0.6999195494770716\n",
    "n_neighbors: 13 acc: 0.6991150442477876\n",
    "n_neighbors: 14 acc: 0.7003218020917136\n",
    "n_neighbors: 15 acc: 0.6999195494770716\n",
    "n_neighbors: 16 acc: 0.6999195494770716\n",
    "n_neighbors: 17 acc: 0.7023330651649236\n",
    "n_neighbors: 18 acc: 0.7031375703942075\n",
    "n_neighbors: 19 acc: 0.7027353177795655\n",
    "n_neighbors: 20 acc: 0.7007240547063556\n",
    "n_neighbors: 21 acc: 0.6995172968624296\n",
    "n_neighbors: 22 acc: 0.7007240547063556\n",
    "n_neighbors: 23 acc: 0.6991150442477876\n",
    "n_neighbors: 24 acc: 0.7007240547063556\n",
    "n_neighbors: 25 acc: 0.6991150442477876"
   ]
  },
  {
   "cell_type": "code",
   "execution_count": 28,
   "metadata": {},
   "outputs": [
    {
     "data": {
      "text/plain": [
       "0.7031375703942075"
      ]
     },
     "execution_count": 28,
     "metadata": {},
     "output_type": "execute_result"
    }
   ],
   "source": [
    "knn_clf = KNeighborsClassifier(n_neighbors=18, n_jobs=-1)\n",
    "_ = knn_clf.fit(X_rgb_train, y_rgb_train)\n",
    "predictions = knn_clf.predict(X_rgb_test)\n",
    "sklearn.metrics.accuracy_score(y_true=y_rgb_test, y_pred=predictions)"
   ]
  },
  {
   "cell_type": "code",
   "execution_count": 29,
   "metadata": {},
   "outputs": [
    {
     "data": {
      "image/png": "[encoded data removed]",
      "text/plain": [
       "<Figure size 432x288 with 2 Axes>"
      ]
     },
     "metadata": {
      "needs_background": "light"
     },
     "output_type": "display_data"
    },
    {
     "data": {
      "image/png": "[encoded data removed]",
      "text/plain": [
       "<Figure size 432x288 with 2 Axes>"
      ]
     },
     "metadata": {
      "needs_background": "light"
     },
     "output_type": "display_data"
    }
   ],
   "source": [
    "_ = plot_confusion_matrix(y_true=y_rgb_test, y_pred=predictions, \n",
    "                          classes=np.array(sorted_diagnostic_classes), normalize=True)\n",
    "_ = plot_confusion_matrix(y_true=y_rgb_test, y_pred=predictions, classes=np.array(sorted_diagnostic_classes))"
   ]
  },
  {
   "cell_type": "markdown",
   "metadata": {},
   "source": [
    "#### 6.2 KNN - Gray"
   ]
  },
  {
   "cell_type": "code",
   "execution_count": 18,
   "metadata": {},
   "outputs": [
    {
     "name": "stdout",
     "output_type": "stream",
     "text": [
      "n_neighbors: 1 acc: 0.6323411102172164\n",
      "n_neighbors: 2 acc: 0.6351568785197104\n",
      "n_neighbors: 3 acc: 0.665728077232502\n",
      "n_neighbors: 4 acc: 0.672566371681416\n",
      "n_neighbors: 5 acc: 0.674175382139984\n",
      "n_neighbors: 6 acc: 0.6790024135156878\n",
      "n_neighbors: 7 acc: 0.6826226870474658\n",
      "n_neighbors: 8 acc: 0.6810136765888978\n",
      "n_neighbors: 9 acc: 0.6842316975060337\n",
      "n_neighbors: 10 acc: 0.6858407079646017\n",
      "n_neighbors: 11 acc: 0.6858407079646017\n",
      "n_neighbors: 12 acc: 0.6894609814963797\n",
      "n_neighbors: 13 acc: 0.6890587288817377\n",
      "n_neighbors: 14 acc: 0.6858407079646017\n",
      "n_neighbors: 15 acc: 0.6878519710378117\n",
      "n_neighbors: 16 acc: 0.6842316975060337\n",
      "n_neighbors: 17 acc: 0.6862429605792437\n",
      "n_neighbors: 18 acc: 0.6846339501206757\n",
      "n_neighbors: 19 acc: 0.6838294448913917\n",
      "n_neighbors: 20 acc: 0.6858407079646017\n",
      "n_neighbors: 21 acc: 0.6846339501206757\n",
      "n_neighbors: 22 acc: 0.6862429605792437\n",
      "n_neighbors: 23 acc: 0.6850362027353177\n",
      "n_neighbors: 24 acc: 0.6842316975060337\n",
      "n_neighbors: 25 acc: 0.6854384553499597\n"
     ]
    }
   ],
   "source": [
    "for n_neighbors in range(1, 26):\n",
    "    knn_clf = KNeighborsClassifier(n_neighbors=n_neighbors, n_jobs=-1)\n",
    "    _ = knn_clf.fit(X_gray_train, y_gray_train)\n",
    "    predictions = knn_clf.predict(X_gray_test)\n",
    "    print('n_neighbors:', n_neighbors, 'acc:', sklearn.metrics.accuracy_score(y_true=y_gray_test, y_pred=predictions))"
   ]
  },
  {
   "cell_type": "raw",
   "metadata": {},
   "source": [
    "n_neighbors: 1 acc: 0.6323411102172164\n",
    "n_neighbors: 2 acc: 0.6351568785197104\n",
    "n_neighbors: 3 acc: 0.665728077232502\n",
    "n_neighbors: 4 acc: 0.672566371681416\n",
    "n_neighbors: 5 acc: 0.674175382139984\n",
    "n_neighbors: 6 acc: 0.6790024135156878\n",
    "n_neighbors: 7 acc: 0.6826226870474658\n",
    "n_neighbors: 8 acc: 0.6810136765888978\n",
    "n_neighbors: 9 acc: 0.6842316975060337\n",
    "n_neighbors: 10 acc: 0.6858407079646017\n",
    "n_neighbors: 11 acc: 0.6858407079646017\n",
    "n_neighbors: 12 acc: 0.6894609814963797\n",
    "n_neighbors: 13 acc: 0.6890587288817377\n",
    "n_neighbors: 14 acc: 0.6858407079646017\n",
    "n_neighbors: 15 acc: 0.6878519710378117\n",
    "n_neighbors: 16 acc: 0.6842316975060337\n",
    "n_neighbors: 17 acc: 0.6862429605792437\n",
    "n_neighbors: 18 acc: 0.6846339501206757\n",
    "n_neighbors: 19 acc: 0.6838294448913917\n",
    "n_neighbors: 20 acc: 0.6858407079646017\n",
    "n_neighbors: 21 acc: 0.6846339501206757\n",
    "n_neighbors: 22 acc: 0.6862429605792437\n",
    "n_neighbors: 23 acc: 0.6850362027353177\n",
    "n_neighbors: 24 acc: 0.6842316975060337\n",
    "n_neighbors: 25 acc: 0.6854384553499597"
   ]
  },
  {
   "cell_type": "code",
   "execution_count": 19,
   "metadata": {},
   "outputs": [
    {
     "data": {
      "text/plain": [
       "0.6894609814963797"
      ]
     },
     "execution_count": 19,
     "metadata": {},
     "output_type": "execute_result"
    }
   ],
   "source": [
    "knn_clf = KNeighborsClassifier(n_neighbors=12, n_jobs=-1)\n",
    "_ = knn_clf.fit(X_gray_train, y_gray_train)\n",
    "predictions = knn_clf.predict(X_gray_test)\n",
    "sklearn.metrics.accuracy_score(y_true=y_gray_test, y_pred=predictions)"
   ]
  },
  {
   "cell_type": "markdown",
   "metadata": {},
   "source": [
    "#### 6.3 Logistic Regression - RGB"
   ]
  },
  {
   "cell_type": "code",
   "execution_count": 30,
   "metadata": {},
   "outputs": [
    {
     "data": {
      "text/plain": [
       "LogisticRegression(C=1.0, class_weight=None, dual=False, fit_intercept=True,\n",
       "          intercept_scaling=1, max_iter=100, multi_class='warn', n_jobs=-1,\n",
       "          penalty='l2', random_state=None, solver='lbfgs', tol=0.0001,\n",
       "          verbose=0, warm_start=False)"
      ]
     },
     "execution_count": 30,
     "metadata": {},
     "output_type": "execute_result"
    },
    {
     "data": {
      "text/plain": [
       "0.6874497184231697"
      ]
     },
     "execution_count": 30,
     "metadata": {},
     "output_type": "execute_result"
    }
   ],
   "source": [
    "lr_clf = LogisticRegression(n_jobs=-1, solver='lbfgs')\n",
    "lr_clf.fit(X_rgb_train, y_rgb_train)\n",
    "predictions = lr_clf.predict(X_rgb_test)\n",
    "sklearn.metrics.accuracy_score(y_true=y_rgb_test, y_pred=predictions)"
   ]
  },
  {
   "cell_type": "code",
   "execution_count": 31,
   "metadata": {},
   "outputs": [
    {
     "data": {
      "image/png": "[encoded data removed]",
      "text/plain": [
       "<Figure size 432x288 with 2 Axes>"
      ]
     },
     "metadata": {
      "needs_background": "light"
     },
     "output_type": "display_data"
    },
    {
     "data": {
      "image/png": "[encoded data removed]",
      "text/plain": [
       "<Figure size 432x288 with 2 Axes>"
      ]
     },
     "metadata": {
      "needs_background": "light"
     },
     "output_type": "display_data"
    }
   ],
   "source": [
    "_ = plot_confusion_matrix(y_true=y_rgb_test, y_pred=predictions, \n",
    "                          classes=np.array(sorted_diagnostic_classes), normalize=True)\n",
    "_ = plot_confusion_matrix(y_true=y_rgb_test, y_pred=predictions, classes=np.array(sorted_diagnostic_classes))"
   ]
  },
  {
   "cell_type": "markdown",
   "metadata": {},
   "source": [
    "#### 6.4 Logistic Regression - Gray"
   ]
  },
  {
   "cell_type": "code",
   "execution_count": 22,
   "metadata": {},
   "outputs": [
    {
     "data": {
      "text/plain": [
       "LogisticRegression(C=1.0, class_weight=None, dual=False, fit_intercept=True,\n",
       "          intercept_scaling=1, max_iter=100, multi_class='warn', n_jobs=-1,\n",
       "          penalty='l2', random_state=None, solver='lbfgs', tol=0.0001,\n",
       "          verbose=0, warm_start=False)"
      ]
     },
     "execution_count": 22,
     "metadata": {},
     "output_type": "execute_result"
    },
    {
     "data": {
      "text/plain": [
       "0.673773129525342"
      ]
     },
     "execution_count": 22,
     "metadata": {},
     "output_type": "execute_result"
    }
   ],
   "source": [
    "lr_clf = LogisticRegression(n_jobs=-1, solver='lbfgs')\n",
    "lr_clf.fit(X_gray_train, y_gray_train)\n",
    "predictions = lr_clf.predict(X_gray_test)\n",
    "sklearn.metrics.accuracy_score(y_true=y_gray_test, y_pred=predictions)"
   ]
  },
  {
   "cell_type": "markdown",
   "metadata": {},
   "source": [
    "### 6.5 Random Forest - RGB"
   ]
  },
  {
   "cell_type": "code",
   "execution_count": 23,
   "metadata": {},
   "outputs": [
    {
     "name": "stdout",
     "output_type": "stream",
     "text": [
      "n_estimators: 3\n",
      "[0.3878 0.3789 0.4505 0.4964 0.5708 0.6279 0.6219 0.6219 0.6219 0.6219]\n",
      "n_estimators: 4\n",
      "[0.3821 0.3777 0.4549 0.5012 0.5845 0.6521 0.6553 0.6553 0.6553 0.6553]\n",
      "n_estimators: 5\n",
      "[0.4167 0.4091 0.4702 0.5121 0.5909 0.6593 0.6693 0.6693 0.6693 0.6693]\n",
      "n_estimators: 6\n",
      "[0.428  0.4183 0.4646 0.5209 0.5986 0.673  0.6762 0.6762 0.6762 0.6762]\n",
      "n_estimators: 7\n",
      "[0.4513 0.4332 0.4787 0.5278 0.599  0.6673 0.6774 0.6774 0.6774 0.6774]\n",
      "n_estimators: 8\n",
      "[0.434  0.4324 0.4803 0.5322 0.6002 0.6774 0.6854 0.6854 0.6854 0.6854]\n",
      "n_estimators: 9\n",
      "[0.4429 0.4368 0.4803 0.5338 0.6042 0.683  0.6846 0.6846 0.6846 0.6846]\n",
      "n_estimators: 10\n",
      "[0.4461 0.4421 0.4835 0.5358 0.6058 0.6858 0.6891 0.6891 0.6891 0.6891]\n",
      "n_estimators: 50\n",
      "[0.4372 0.4582 0.4988 0.5535 0.6287 0.6939 0.7003 0.7003 0.7003 0.7003]\n",
      "n_estimators: 100\n",
      "[0.4324 0.4682 0.4968 0.5527 0.6376 0.6995 0.7011 0.7011 0.7011 0.7011]\n",
      "n_estimators: 150\n",
      "[0.4381 0.4718 0.4984 0.5547 0.6344 0.6995 0.7003 0.7003 0.7003 0.7003]\n",
      "n_estimators: 200\n",
      "[0.4336 0.4666 0.4988 0.5555 0.6384 0.7007 0.7007 0.7007 0.7007 0.7007]\n"
     ]
    }
   ],
   "source": [
    "np.set_printoptions(precision=4)\n",
    "\n",
    "for n_estimators in [3, 4, 5, 6, 7, 8, 9, 10, 50, 100, 150, 200]:\n",
    "    accs = []\n",
    "    print('n_estimators:', n_estimators)\n",
    "    for max_depth in [2, 3, 5, 7, 10, 25, 50, 75, 100, 150]:\n",
    "        rf_clf = RandomForestClassifier(class_weight='balanced', n_estimators=n_estimators, max_depth=max_depth, n_jobs=-1, random_state=42)\n",
    "        _ = rf_clf.fit(X_rgb_train, y_rgb_train)\n",
    "        predictions = rf_clf.predict(X_rgb_test)\n",
    "        accs.append(sklearn.metrics.accuracy_score(y_true=y_rgb_test, y_pred=predictions))\n",
    "    print(np.array(accs))"
   ]
  },
  {
   "cell_type": "raw",
   "metadata": {},
   "source": [
    "Balanced:\n",
    "\n",
    "n_estimators: 3\n",
    "[0.3878 0.3789 0.4505 0.4964 0.5708 0.6279 0.6219 0.6219 0.6219 0.6219]\n",
    "n_estimators: 4\n",
    "[0.3821 0.3777 0.4549 0.5012 0.5845 0.6521 0.6553 0.6553 0.6553 0.6553]\n",
    "n_estimators: 5\n",
    "[0.4167 0.4091 0.4702 0.5121 0.5909 0.6593 0.6693 0.6693 0.6693 0.6693]\n",
    "n_estimators: 6\n",
    "[0.428  0.4183 0.4646 0.5209 0.5986 0.673  0.6762 0.6762 0.6762 0.6762]\n",
    "n_estimators: 7\n",
    "[0.4513 0.4332 0.4787 0.5278 0.599  0.6673 0.6774 0.6774 0.6774 0.6774]\n",
    "n_estimators: 8\n",
    "[0.434  0.4324 0.4803 0.5322 0.6002 0.6774 0.6854 0.6854 0.6854 0.6854]\n",
    "n_estimators: 9\n",
    "[0.4429 0.4368 0.4803 0.5338 0.6042 0.683  0.6846 0.6846 0.6846 0.6846]\n",
    "n_estimators: 10\n",
    "[0.4461 0.4421 0.4835 0.5358 0.6058 0.6858 0.6891 0.6891 0.6891 0.6891]\n",
    "n_estimators: 50\n",
    "[0.4372 0.4582 0.4988 0.5535 0.6287 0.6939 0.7003 0.7003 0.7003 0.7003]\n",
    "n_estimators: 100\n",
    "[0.4324 0.4682 0.4968 0.5527 0.6376 0.6995 0.7011 0.7011 0.7011 0.7011]\n",
    "n_estimators: 150\n",
    "[0.4381 0.4718 0.4984 0.5547 0.6344 0.6995 0.7003 0.7003 0.7003 0.7003]\n",
    "n_estimators: 200\n",
    "[0.4336 0.4666 0.4988 0.5555 0.6384 0.7007 0.7007 0.7007 0.7007 0.7007]"
   ]
  },
  {
   "cell_type": "raw",
   "metadata": {},
   "source": [
    "No balance:\n",
    "\n",
    "n_estimators: 3\n",
    "[0.6702 0.679  0.6939 0.6822 0.6706 0.6295 0.6251 0.6251 0.6251 0.6251]\n",
    "n_estimators: 4\n",
    "[0.6702 0.6786 0.6927 0.683  0.6786 0.6545 0.6605 0.6605 0.6605 0.6605]\n",
    "n_estimators: 5\n",
    "[0.6702 0.6782 0.6903 0.6874 0.6866 0.6681 0.6661 0.6661 0.6661 0.6661]\n",
    "n_estimators: 6\n",
    "[0.6702 0.6762 0.6895 0.6935 0.6911 0.6673 0.6754 0.6754 0.6754 0.6754]\n",
    "n_estimators: 7\n",
    "[0.6702 0.6778 0.6935 0.6911 0.6951 0.6782 0.6802 0.6802 0.6802 0.6802]\n",
    "n_estimators: 8\n",
    "[0.6702 0.6798 0.6883 0.6943 0.7011 0.6818 0.6742 0.6742 0.6742 0.6742]\n",
    "n_estimators: 9\n",
    "[0.6702 0.6794 0.6887 0.6951 0.6995 0.6899 0.679  0.679  0.679  0.679 ]\n",
    "n_estimators: 10\n",
    "[0.6702 0.6802 0.6915 0.6939 0.7007 0.6903 0.6814 0.6814 0.6814 0.6814]\n",
    "n_estimators: 50\n",
    "[0.6702 0.6754 0.6919 0.6995 0.7064 0.7023 0.7015 0.7015 0.7015 0.7015]\n",
    "n_estimators: 100\n",
    "[0.6702 0.675  0.6927 0.6999 0.7064 0.71   0.7124 0.7124 0.7124 0.7124]\n",
    "n_estimators: 150\n",
    "[0.6702 0.6734 0.6931 0.7023 0.7092 0.7116 0.7116 0.7116 0.7116 0.7116]\n",
    "n_estimators: 200\n",
    "[0.6702 0.6718 0.6939 0.7027 0.7116 0.7076 0.7108 0.7112 0.7112 0.7112]"
   ]
  },
  {
   "cell_type": "code",
   "execution_count": 32,
   "metadata": {},
   "outputs": [
    {
     "data": {
      "text/plain": [
       "0.7003218020917136"
      ]
     },
     "execution_count": 32,
     "metadata": {},
     "output_type": "execute_result"
    }
   ],
   "source": [
    "rf_clf = RandomForestClassifier(class_weight='balanced', n_estimators=50, max_depth=50, n_jobs=-1, random_state=42)\n",
    "_ = rf_clf.fit(X_rgb_train, y_rgb_train)\n",
    "predictions = rf_clf.predict(X_rgb_test)\n",
    "sklearn.metrics.accuracy_score(y_true=y_rgb_test, y_pred=predictions)"
   ]
  },
  {
   "cell_type": "code",
   "execution_count": 33,
   "metadata": {},
   "outputs": [
    {
     "data": {
      "image/png": "[encoded data removed]",
      "text/plain": [
       "<Figure size 432x288 with 2 Axes>"
      ]
     },
     "metadata": {
      "needs_background": "light"
     },
     "output_type": "display_data"
    },
    {
     "data": {
      "image/png": "[encoded data removed]",
      "text/plain": [
       "<Figure size 432x288 with 2 Axes>"
      ]
     },
     "metadata": {
      "needs_background": "light"
     },
     "output_type": "display_data"
    }
   ],
   "source": [
    "_ = plot_confusion_matrix(y_true=y_rgb_test, y_pred=predictions, \n",
    "                          classes=np.array(sorted_diagnostic_classes), normalize=True)\n",
    "_ = plot_confusion_matrix(y_true=y_rgb_test, y_pred=predictions, classes=np.array(sorted_diagnostic_classes))"
   ]
  },
  {
   "cell_type": "markdown",
   "metadata": {},
   "source": [
    "### 6.5 Random Forest - Gray"
   ]
  },
  {
   "cell_type": "code",
   "execution_count": 26,
   "metadata": {},
   "outputs": [
    {
     "name": "stdout",
     "output_type": "stream",
     "text": [
      "n_estimators: 3\n",
      "[0.6738 0.6758 0.6854 0.6758 0.6706 0.6219 0.5949 0.5949 0.5949]\n",
      "n_estimators: 4\n",
      "[0.6702 0.675  0.6826 0.6818 0.6738 0.636  0.6295 0.6295 0.6295]\n",
      "n_estimators: 5\n",
      "[0.6702 0.6742 0.6838 0.6798 0.6846 0.6649 0.6496 0.6468 0.6468]\n",
      "n_estimators: 6\n",
      "[0.6702 0.6746 0.6842 0.679  0.6883 0.6577 0.6641 0.6569 0.6569]\n",
      "n_estimators: 7\n",
      "[0.6702 0.6742 0.683  0.6818 0.6874 0.6698 0.6665 0.6669 0.6669]\n",
      "n_estimators: 8\n",
      "[0.6702 0.6734 0.6826 0.6846 0.6874 0.673  0.6698 0.6738 0.6738]\n",
      "n_estimators: 9\n",
      "[0.6702 0.6726 0.6834 0.6822 0.6846 0.6734 0.6762 0.679  0.679 ]\n",
      "n_estimators: 10\n",
      "[0.6702 0.6734 0.683  0.6818 0.6899 0.6814 0.6802 0.6838 0.6838]\n",
      "n_estimators: 50\n",
      "[0.6702 0.6726 0.6806 0.6854 0.6943 0.6927 0.6967 0.6959 0.6959]\n",
      "n_estimators: 100\n",
      "[0.6702 0.6714 0.6818 0.6838 0.6963 0.6927 0.6935 0.6935 0.6935]\n",
      "n_estimators: 150\n",
      "[0.6702 0.6714 0.6818 0.6842 0.6935 0.6959 0.6959 0.6947 0.6947]\n"
     ]
    }
   ],
   "source": [
    "np.set_printoptions(precision=4)\n",
    "\n",
    "for n_estimators in [3, 4, 5, 6, 7, 8, 9, 10, 50, 100, 150]:\n",
    "    accs = []\n",
    "    print('n_estimators:', n_estimators)\n",
    "    for max_depth in [2, 3, 5, 7, 10, 25, 50, 75, 100]:\n",
    "        rf_clf = RandomForestClassifier(n_estimators=n_estimators, max_depth=max_depth, n_jobs=-1, random_state=42)\n",
    "        _ = rf_clf.fit(X_gray_train, y_gray_train)\n",
    "        predictions = rf_clf.predict(X_gray_test)\n",
    "        accs.append(sklearn.metrics.accuracy_score(y_true=y_rgb_test, y_pred=predictions))\n",
    "    print(np.array(accs))"
   ]
  },
  {
   "cell_type": "raw",
   "metadata": {},
   "source": [
    "n_estimators: 3\n",
    "[0.6738 0.6758 0.6854 0.6758 0.6706 0.6219 0.5949 0.5949 0.5949]\n",
    "n_estimators: 4\n",
    "[0.6702 0.675  0.6826 0.6818 0.6738 0.636  0.6295 0.6295 0.6295]\n",
    "n_estimators: 5\n",
    "[0.6702 0.6742 0.6838 0.6798 0.6846 0.6649 0.6496 0.6468 0.6468]\n",
    "n_estimators: 6\n",
    "[0.6702 0.6746 0.6842 0.679  0.6883 0.6577 0.6641 0.6569 0.6569]\n",
    "n_estimators: 7\n",
    "[0.6702 0.6742 0.683  0.6818 0.6874 0.6698 0.6665 0.6669 0.6669]\n",
    "n_estimators: 8\n",
    "[0.6702 0.6734 0.6826 0.6846 0.6874 0.673  0.6698 0.6738 0.6738]\n",
    "n_estimators: 9\n",
    "[0.6702 0.6726 0.6834 0.6822 0.6846 0.6734 0.6762 0.679  0.679 ]\n",
    "n_estimators: 10\n",
    "[0.6702 0.6734 0.683  0.6818 0.6899 0.6814 0.6802 0.6838 0.6838]\n",
    "n_estimators: 50\n",
    "[0.6702 0.6726 0.6806 0.6854 0.6943 0.6927 0.6967 0.6959 0.6959]\n",
    "n_estimators: 100\n",
    "[0.6702 0.6714 0.6818 0.6838 0.6963 0.6927 0.6935 0.6935 0.6935]\n",
    "n_estimators: 150\n",
    "[0.6702 0.6714 0.6818 0.6842 0.6935 0.6959 0.6959 0.6947 0.6947]"
   ]
  },
  {
   "cell_type": "code",
   "execution_count": 27,
   "metadata": {},
   "outputs": [
    {
     "data": {
      "text/plain": [
       "RandomForestClassifier(bootstrap=True, class_weight=None, criterion='gini',\n",
       "            max_depth=50, max_features='auto', max_leaf_nodes=None,\n",
       "            min_impurity_decrease=0.0, min_impurity_split=None,\n",
       "            min_samples_leaf=1, min_samples_split=2,\n",
       "            min_weight_fraction_leaf=0.0, n_estimators=50, n_jobs=-1,\n",
       "            oob_score=False, random_state=42, verbose=0, warm_start=False)"
      ]
     },
     "execution_count": 27,
     "metadata": {},
     "output_type": "execute_result"
    },
    {
     "data": {
      "text/plain": [
       "0.6967015285599356"
      ]
     },
     "execution_count": 27,
     "metadata": {},
     "output_type": "execute_result"
    }
   ],
   "source": [
    "rf_clf = RandomForestClassifier(n_estimators=50, max_depth=50, n_jobs=-1, random_state=42)\n",
    "rf_clf.fit(X_gray_train, y_gray_train)\n",
    "_ = predictions = rf_clf.predict(X_gray_test)\n",
    "sklearn.metrics.accuracy_score(y_true=y_gray_test, y_pred=predictions)"
   ]
  },
  {
   "cell_type": "code",
   "execution_count": null,
   "metadata": {},
   "outputs": [],
   "source": []
  }
 ],
 "metadata": {
  "kernelspec": {
   "display_name": "Python 3",
   "language": "python",
   "name": "python3"
  },
  "language_info": {
   "codemirror_mode": {
    "name": "ipython",
    "version": 3
   },
   "file_extension": ".py",
   "mimetype": "text/x-python",
   "name": "python",
   "nbconvert_exporter": "python",
   "pygments_lexer": "ipython3",
   "version": "3.7.3"
  }
 },
 "nbformat": 4,
 "nbformat_minor": 4
}
