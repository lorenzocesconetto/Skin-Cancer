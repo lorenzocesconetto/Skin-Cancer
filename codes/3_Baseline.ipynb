{
 "cells": [
  {
   "cell_type": "markdown",
   "metadata": {},
   "source": [
    "# Notebook 3 - Model baseline"
   ]
  },
  {
   "cell_type": "markdown",
   "metadata": {},
   "source": [
    "### 1. Setup constants"
   ]
  },
  {
   "cell_type": "code",
   "execution_count": 1,
   "metadata": {},
   "outputs": [],
   "source": [
    "from constants import *"
   ]
  },
  {
   "cell_type": "markdown",
   "metadata": {},
   "source": [
    "### 2. Imports and notebook setup"
   ]
  },
  {
   "cell_type": "code",
   "execution_count": 2,
   "metadata": {},
   "outputs": [],
   "source": [
    "# Set up multiple outputs for cells\n",
    "from IPython.core.interactiveshell import InteractiveShell\n",
    "InteractiveShell.ast_node_interactivity = \"all\"\n",
    "\n",
    "# Printing with markdown\n",
    "from IPython.display import Markdown, display\n",
    "def printmd(string):\n",
    "    display(Markdown(string))\n",
    "    \n",
    "import warnings\n",
    "warnings.filterwarnings('ignore')"
   ]
  },
  {
   "cell_type": "code",
   "execution_count": 3,
   "metadata": {},
   "outputs": [],
   "source": [
    "# Default imports\n",
    "import os\n",
    "import random\n",
    "import shutil\n",
    "from glob import glob\n",
    "from send2trash import send2trash\n",
    "import numpy as np\n",
    "import matplotlib.pyplot as plt\n",
    "import pandas as pd\n",
    "import pylab as pl\n",
    "import seaborn as sns\n",
    "import sklearn\n",
    "from sklearn.neighbors import KNeighborsRegressor\n",
    "from sklearn.metrics import confusion_matrix, roc_auc_score, roc_curve\n",
    "from sklearn.utils.multiclass import unique_labels\n",
    "from sklearn.linear_model import LogisticRegression\n",
    "from sklearn.ensemble import RandomForestRegressor\n",
    "from sklearn.model_selection import GridSearchCV\n",
    "import seaborn as sn"
   ]
  },
  {
   "cell_type": "markdown",
   "metadata": {},
   "source": [
    "### 3. Read data"
   ]
  },
  {
   "cell_type": "code",
   "execution_count": 4,
   "metadata": {},
   "outputs": [],
   "source": [
    "file_rgb = 'hmnist_28_28_RGB.csv'\n",
    "file_gray = 'hmnist_28_28_L.csv'\n",
    "file_reference = 'HAM10000_metadata.csv'"
   ]
  },
  {
   "cell_type": "code",
   "execution_count": 5,
   "metadata": {},
   "outputs": [],
   "source": [
    "df_rgb = pd.read_csv(os.path.join(DATA_ORIGINAL_DIR_PATH, file_rgb))\n",
    "df_gray = pd.read_csv(os.path.join(DATA_ORIGINAL_DIR_PATH, file_gray))\n",
    "df_ref = pd.read_csv(os.path.join(DATA_ORIGINAL_DIR_PATH, file_reference))"
   ]
  },
  {
   "cell_type": "code",
   "execution_count": 6,
   "metadata": {},
   "outputs": [
    {
     "data": {
      "text/html": [
       "<div>\n",
       "<style scoped>\n",
       "    .dataframe tbody tr th:only-of-type {\n",
       "        vertical-align: middle;\n",
       "    }\n",
       "\n",
       "    .dataframe tbody tr th {\n",
       "        vertical-align: top;\n",
       "    }\n",
       "\n",
       "    .dataframe thead th {\n",
       "        text-align: right;\n",
       "    }\n",
       "</style>\n",
       "<table border=\"1\" class=\"dataframe\">\n",
       "  <thead>\n",
       "    <tr style=\"text-align: right;\">\n",
       "      <th></th>\n",
       "      <th>pixel0000</th>\n",
       "      <th>pixel0001</th>\n",
       "      <th>pixel0002</th>\n",
       "      <th>pixel0003</th>\n",
       "      <th>pixel0004</th>\n",
       "      <th>pixel0005</th>\n",
       "      <th>pixel0006</th>\n",
       "      <th>pixel0007</th>\n",
       "      <th>pixel0008</th>\n",
       "      <th>pixel0009</th>\n",
       "      <th>...</th>\n",
       "      <th>pixel2343</th>\n",
       "      <th>pixel2344</th>\n",
       "      <th>pixel2345</th>\n",
       "      <th>pixel2346</th>\n",
       "      <th>pixel2347</th>\n",
       "      <th>pixel2348</th>\n",
       "      <th>pixel2349</th>\n",
       "      <th>pixel2350</th>\n",
       "      <th>pixel2351</th>\n",
       "      <th>label</th>\n",
       "    </tr>\n",
       "  </thead>\n",
       "  <tbody>\n",
       "    <tr>\n",
       "      <td>0</td>\n",
       "      <td>192</td>\n",
       "      <td>153</td>\n",
       "      <td>193</td>\n",
       "      <td>195</td>\n",
       "      <td>155</td>\n",
       "      <td>192</td>\n",
       "      <td>197</td>\n",
       "      <td>154</td>\n",
       "      <td>185</td>\n",
       "      <td>202</td>\n",
       "      <td>...</td>\n",
       "      <td>173</td>\n",
       "      <td>124</td>\n",
       "      <td>138</td>\n",
       "      <td>183</td>\n",
       "      <td>147</td>\n",
       "      <td>166</td>\n",
       "      <td>185</td>\n",
       "      <td>154</td>\n",
       "      <td>177</td>\n",
       "      <td>2</td>\n",
       "    </tr>\n",
       "    <tr>\n",
       "      <td>1</td>\n",
       "      <td>25</td>\n",
       "      <td>14</td>\n",
       "      <td>30</td>\n",
       "      <td>68</td>\n",
       "      <td>48</td>\n",
       "      <td>75</td>\n",
       "      <td>123</td>\n",
       "      <td>93</td>\n",
       "      <td>126</td>\n",
       "      <td>158</td>\n",
       "      <td>...</td>\n",
       "      <td>60</td>\n",
       "      <td>39</td>\n",
       "      <td>55</td>\n",
       "      <td>25</td>\n",
       "      <td>14</td>\n",
       "      <td>28</td>\n",
       "      <td>25</td>\n",
       "      <td>14</td>\n",
       "      <td>27</td>\n",
       "      <td>2</td>\n",
       "    </tr>\n",
       "    <tr>\n",
       "      <td>2</td>\n",
       "      <td>192</td>\n",
       "      <td>138</td>\n",
       "      <td>153</td>\n",
       "      <td>200</td>\n",
       "      <td>145</td>\n",
       "      <td>163</td>\n",
       "      <td>201</td>\n",
       "      <td>142</td>\n",
       "      <td>160</td>\n",
       "      <td>206</td>\n",
       "      <td>...</td>\n",
       "      <td>167</td>\n",
       "      <td>129</td>\n",
       "      <td>143</td>\n",
       "      <td>159</td>\n",
       "      <td>124</td>\n",
       "      <td>142</td>\n",
       "      <td>136</td>\n",
       "      <td>104</td>\n",
       "      <td>117</td>\n",
       "      <td>2</td>\n",
       "    </tr>\n",
       "    <tr>\n",
       "      <td>3</td>\n",
       "      <td>38</td>\n",
       "      <td>19</td>\n",
       "      <td>30</td>\n",
       "      <td>95</td>\n",
       "      <td>59</td>\n",
       "      <td>72</td>\n",
       "      <td>143</td>\n",
       "      <td>103</td>\n",
       "      <td>119</td>\n",
       "      <td>171</td>\n",
       "      <td>...</td>\n",
       "      <td>44</td>\n",
       "      <td>26</td>\n",
       "      <td>36</td>\n",
       "      <td>25</td>\n",
       "      <td>12</td>\n",
       "      <td>17</td>\n",
       "      <td>25</td>\n",
       "      <td>12</td>\n",
       "      <td>15</td>\n",
       "      <td>2</td>\n",
       "    </tr>\n",
       "    <tr>\n",
       "      <td>4</td>\n",
       "      <td>158</td>\n",
       "      <td>113</td>\n",
       "      <td>139</td>\n",
       "      <td>194</td>\n",
       "      <td>144</td>\n",
       "      <td>174</td>\n",
       "      <td>215</td>\n",
       "      <td>162</td>\n",
       "      <td>191</td>\n",
       "      <td>225</td>\n",
       "      <td>...</td>\n",
       "      <td>209</td>\n",
       "      <td>166</td>\n",
       "      <td>185</td>\n",
       "      <td>172</td>\n",
       "      <td>135</td>\n",
       "      <td>149</td>\n",
       "      <td>109</td>\n",
       "      <td>78</td>\n",
       "      <td>92</td>\n",
       "      <td>2</td>\n",
       "    </tr>\n",
       "  </tbody>\n",
       "</table>\n",
       "<p>5 rows × 2353 columns</p>\n",
       "</div>"
      ],
      "text/plain": [
       "   pixel0000  pixel0001  pixel0002  pixel0003  pixel0004  pixel0005  \\\n",
       "0        192        153        193        195        155        192   \n",
       "1         25         14         30         68         48         75   \n",
       "2        192        138        153        200        145        163   \n",
       "3         38         19         30         95         59         72   \n",
       "4        158        113        139        194        144        174   \n",
       "\n",
       "   pixel0006  pixel0007  pixel0008  pixel0009  ...  pixel2343  pixel2344  \\\n",
       "0        197        154        185        202  ...        173        124   \n",
       "1        123         93        126        158  ...         60         39   \n",
       "2        201        142        160        206  ...        167        129   \n",
       "3        143        103        119        171  ...         44         26   \n",
       "4        215        162        191        225  ...        209        166   \n",
       "\n",
       "   pixel2345  pixel2346  pixel2347  pixel2348  pixel2349  pixel2350  \\\n",
       "0        138        183        147        166        185        154   \n",
       "1         55         25         14         28         25         14   \n",
       "2        143        159        124        142        136        104   \n",
       "3         36         25         12         17         25         12   \n",
       "4        185        172        135        149        109         78   \n",
       "\n",
       "   pixel2351  label  \n",
       "0        177      2  \n",
       "1         27      2  \n",
       "2        117      2  \n",
       "3         15      2  \n",
       "4         92      2  \n",
       "\n",
       "[5 rows x 2353 columns]"
      ]
     },
     "execution_count": 6,
     "metadata": {},
     "output_type": "execute_result"
    }
   ],
   "source": [
    "df_rgb.head()"
   ]
  },
  {
   "cell_type": "code",
   "execution_count": 7,
   "metadata": {},
   "outputs": [
    {
     "data": {
      "text/plain": [
       "4    6705\n",
       "6    1113\n",
       "2    1099\n",
       "1     514\n",
       "0     327\n",
       "5     142\n",
       "3     115\n",
       "Name: label, dtype: int64"
      ]
     },
     "execution_count": 7,
     "metadata": {},
     "output_type": "execute_result"
    },
    {
     "data": {
      "text/plain": [
       "nv       6705\n",
       "mel      1113\n",
       "bkl      1099\n",
       "bcc       514\n",
       "akiec     327\n",
       "vasc      142\n",
       "df        115\n",
       "Name: dx, dtype: int64"
      ]
     },
     "execution_count": 7,
     "metadata": {},
     "output_type": "execute_result"
    }
   ],
   "source": [
    "df_rgb.label.value_counts()\n",
    "df_ref.dx.value_counts()"
   ]
  },
  {
   "cell_type": "code",
   "execution_count": 8,
   "metadata": {},
   "outputs": [
    {
     "data": {
      "text/plain": [
       "nv       0.669496\n",
       "mel      0.111133\n",
       "bkl      0.109735\n",
       "bcc      0.051323\n",
       "akiec    0.032651\n",
       "vasc     0.014179\n",
       "df       0.011483\n",
       "Name: dx, dtype: float64"
      ]
     },
     "execution_count": 8,
     "metadata": {},
     "output_type": "execute_result"
    }
   ],
   "source": [
    "df_ref.dx.value_counts() / len(df_ref)"
   ]
  },
  {
   "cell_type": "markdown",
   "metadata": {},
   "source": [
    "### 4. Modify target to binary"
   ]
  },
  {
   "cell_type": "code",
   "execution_count": 9,
   "metadata": {},
   "outputs": [],
   "source": [
    "df_ref['dx'] = df_ref['dx'].apply(lambda x: 'other' if x != 'mel' else 'mel')"
   ]
  },
  {
   "cell_type": "markdown",
   "metadata": {},
   "source": [
    "### 5. Train test split"
   ]
  },
  {
   "cell_type": "code",
   "execution_count": 10,
   "metadata": {},
   "outputs": [],
   "source": [
    "# Setting random seed for the split\n",
    "random.seed(100)\n",
    "\n",
    "# We're splitting on lesion_id to avoid data leakage\n",
    "test_rate = 0.25\n",
    "lesions = df_ref.lesion_id.unique().tolist()\n",
    "test_size = round(test_rate * len(lesions))\n",
    "\n",
    "test_lesions = random.sample(population=lesions, k=test_size)\n",
    "test_indices = df_ref[df_ref.lesion_id.isin(test_lesions)].index\n",
    "train_indices = df_ref[~df_ref.lesion_id.isin(test_lesions)].index"
   ]
  },
  {
   "cell_type": "code",
   "execution_count": 11,
   "metadata": {},
   "outputs": [],
   "source": [
    "df_rgb_train = df_rgb.iloc[train_indices, :]\n",
    "df_rgb_test = df_rgb.iloc[test_indices, :]\n",
    "\n",
    "df_gray_train = df_gray.iloc[train_indices, :]\n",
    "df_gray_test = df_gray.iloc[test_indices, :]"
   ]
  },
  {
   "cell_type": "code",
   "execution_count": 13,
   "metadata": {},
   "outputs": [
    {
     "name": "stdout",
     "output_type": "stream",
     "text": [
      "Train: 7529 Test: 2486 Proportion: 0.7517723414877684\n",
      "Train: 7529 Test: 2486 Proportion: 0.7517723414877684\n"
     ]
    }
   ],
   "source": [
    "print('Train:', len(df_rgb_train), 'Test:', len(df_rgb_test),\n",
    "      'Proportion:', len(df_rgb_train)/ (len(df_rgb_train) + len(df_rgb_test)))\n",
    "\n",
    "print('Train:', len(df_gray_train), 'Test:', len(df_gray_test),\n",
    "      'Proportion:', len(df_gray_train)/ (len(df_gray_train) + len(df_gray_test)))"
   ]
  },
  {
   "cell_type": "code",
   "execution_count": 12,
   "metadata": {},
   "outputs": [],
   "source": [
    "# RGB\n",
    "X_rgb_train = df_rgb_train.drop('label', axis=1)\n",
    "y_rgb_train = df_rgb_train['label'].apply(lambda x: 1 if x == DIAG_2_NUM['mel'] else 0)\n",
    "\n",
    "X_rgb_test = df_rgb_test.drop('label', axis=1)\n",
    "y_rgb_test = df_rgb_test['label'].apply(lambda x: 1 if x == DIAG_2_NUM['mel'] else 0)\n",
    "\n",
    "# GRAY\n",
    "X_gray_train = df_gray_train.drop('label', axis=1)\n",
    "y_gray_train = df_gray_train['label'].apply(lambda x: 1 if x == DIAG_2_NUM['mel'] else 0)\n",
    "\n",
    "X_gray_test = df_gray_test.drop('label', axis=1)\n",
    "y_gray_test = df_gray_test['label'].apply(lambda x: 1 if x == DIAG_2_NUM['mel'] else 0)"
   ]
  },
  {
   "cell_type": "markdown",
   "metadata": {},
   "source": [
    "### 7. Fit models"
   ]
  },
  {
   "cell_type": "code",
   "execution_count": 13,
   "metadata": {},
   "outputs": [],
   "source": [
    "np.set_printoptions(precision=2)\n",
    "# # Plot non-normalized confusion matrix\n",
    "# _ = plot_confusion_matrix(y_true=y_rgb_test, y_pred=predictions, classes=np.array(names),\n",
    "#                       title='Confusion matrix, without normalization')\n",
    "# # Plot normalized confusion matrix\n",
    "# _ = plot_confusion_matrix(y_true=y_rgb_test, y_pred=predictions, classes=class_names, normalize=True,\n",
    "#                       title='Normalized confusion matrix')\n",
    "# plt.show()"
   ]
  },
  {
   "cell_type": "markdown",
   "metadata": {},
   "source": [
    "#### 7.1 KNN - RGB"
   ]
  },
  {
   "cell_type": "code",
   "execution_count": 33,
   "metadata": {},
   "outputs": [
    {
     "name": "stdout",
     "output_type": "stream",
     "text": [
      "n_neighbors: 46 AUC: 0.7804721206359106\n",
      "n_neighbors: 47 AUC: 0.7816207306501133\n",
      "n_neighbors: 48 AUC: 0.7799422509067313\n",
      "n_neighbors: 49 AUC: 0.7796915688671351\n"
     ]
    }
   ],
   "source": [
    "for n_neighbors in range(46, 50):\n",
    "    knn_reg = KNeighborsRegressor(n_neighbors=n_neighbors, n_jobs=-1)\n",
    "    _ = knn_reg.fit(X_rgb_train, y_rgb_train)\n",
    "    predictions = knn_reg.predict(X_rgb_test)\n",
    "    print('n_neighbors:', n_neighbors, 'AUC:', roc_auc_score(y_true=y_rgb_test, y_score=predictions))"
   ]
  },
  {
   "cell_type": "raw",
   "metadata": {},
   "source": [
    "n_neighbors: 1 AUC: 0.5410950864643437\n",
    "n_neighbors: 2 AUC: 0.5775546511998364\n",
    "n_neighbors: 3 AUC: 0.6026454919991348\n",
    "n_neighbors: 4 AUC: 0.6277757376675336\n",
    "n_neighbors: 5 AUC: 0.636977193803207\n",
    "n_neighbors: 6 AUC: 0.6736077924386248\n",
    "n_neighbors: 7 AUC: 0.6770083488018404\n",
    "n_neighbors: 8 AUC: 0.6878740318559022\n",
    "n_neighbors: 9 AUC: 0.6989124256128296\n",
    "n_neighbors: 10 AUC: 0.7079948287397316\n",
    "n_neighbors: 11 AUC: 0.7198649167551181\n",
    "n_neighbors: 12 AUC: 0.7178141867589579\n",
    "n_neighbors: 13 AUC: 0.7288777325599919\n",
    "n_neighbors: 14 AUC: 0.7316872158867018\n",
    "n_neighbors: 15 AUC: 0.7415099275118089\n",
    "n_neighbors: 16 AUC: 0.7424011482746535\n",
    "n_neighbors: 17 AUC: 0.7476352886532422\n",
    "n_neighbors: 18 AUC: 0.7517778303176033\n",
    "n_neighbors: 19 AUC: 0.7535418270109477\n",
    "n_neighbors: 20 AUC: 0.7527168399642505\n",
    "n_neighbors: 21 AUC: 0.7568442904021477\n",
    "n_neighbors: 22 AUC: 0.7609323359709443\n",
    "n_neighbors: 23 AUC: 0.7642607898077209\n",
    "n_neighbors: 24 AUC: 0.7641023319298492\n",
    "n_neighbors: 25 AUC: 0.7649927142912237\n",
    "n_neighbors: 26 AUC: 0.7677694999605951\n",
    "n_neighbors: 27 AUC: 0.7680721628913448\n",
    "n_neighbors: 28 AUC: 0.7651486569646848\n",
    "n_neighbors: 29 AUC: 0.767947241072282\n",
    "n_neighbors: 30 AUC: 0.7671549516829232\n",
    "n_neighbors: 31 AUC: 0.7686213158543396\n",
    "n_neighbors: 32 AUC: 0.7676160724915446\n",
    "n_neighbors: 33 AUC: 0.7718910815882006\n",
    "n_neighbors: 34 AUC: 0.7722599782350978\n",
    "n_neighbors: 35 AUC: 0.7732979192552312\n",
    "n_neighbors: 36 AUC: 0.7746284623884716\n",
    "n_neighbors: 37 AUC: 0.7759715815437653\n",
    "n_neighbors: 38 AUC: 0.7787751960601839\n",
    "n_neighbors: 39 AUC: 0.7802348530198382\n",
    "n_neighbors: 40 AUC: 0.7806833978064065\n",
    "n_neighbors: 41 AUC: 0.7820784978528539\n",
    "n_neighbors: 42 AUC: 0.7813809478296301\n",
    "n_neighbors: 43 AUC: 0.7826963997364066\n",
    "n_neighbors: 44 AUC: 0.7823610391483182\n",
    "n_neighbors: 45 AUC: 0.7801308912375309\n",
    "n_neighbors: 46 AUC: 0.7804721206359106\n",
    "n_neighbors: 47 AUC: 0.7816207306501133\n",
    "n_neighbors: 48 AUC: 0.7799422509067313\n",
    "n_neighbors: 49 AUC: 0.7796915688671351"
   ]
  },
  {
   "cell_type": "code",
   "execution_count": 34,
   "metadata": {},
   "outputs": [
    {
     "data": {
      "text/plain": [
       "0.7823610391483182"
      ]
     },
     "execution_count": 34,
     "metadata": {},
     "output_type": "execute_result"
    }
   ],
   "source": [
    "knn_reg = KNeighborsRegressor(n_neighbors=44, n_jobs=-1)\n",
    "_ = knn_reg.fit(X_rgb_train, y_rgb_train)\n",
    "predictions = knn_reg.predict(X_rgb_test)\n",
    "roc_auc_score(y_true=y_rgb_test, y_score=predictions)"
   ]
  },
  {
   "cell_type": "code",
   "execution_count": 35,
   "metadata": {},
   "outputs": [
    {
     "data": {
      "image/png": "[encoded data removed]",
      "text/plain": [
       "<Figure size 432x288 with 1 Axes>"
      ]
     },
     "metadata": {
      "needs_background": "light"
     },
     "output_type": "display_data"
    }
   ],
   "source": [
    "fpr, tpr, _ = roc_curve(y_true=y_rgb_test, y_score=predictions)\n",
    "\n",
    "_ = plt.figure(1)\n",
    "_ = plt.plot([0, 1], [0, 1], 'k--')\n",
    "_ = plt.plot(fpr, tpr, label='GBT')\n",
    "_ = plt.xlabel('False positive rate')\n",
    "_ = plt.ylabel('True positive rate')\n",
    "_ = plt.title('ROC curve')\n",
    "_ = plt.legend(loc='best')\n",
    "plt.show()\n"
   ]
  },
  {
   "cell_type": "code",
   "execution_count": 36,
   "metadata": {},
   "outputs": [
    {
     "data": {
      "image/png": "[encoded data removed]",
      "text/plain": [
       "<Figure size 864x576 with 2 Axes>"
      ]
     },
     "metadata": {
      "needs_background": "light"
     },
     "output_type": "display_data"
    }
   ],
   "source": [
    "threshold = .2\n",
    "cm = confusion_matrix(y_true=y_rgb_test, y_pred=np.array(predictions > threshold, dtype=np.int16))\n",
    "df_cm = pd.DataFrame(cm)\n",
    "_ = plt.figure(figsize = (12, 8))\n",
    "_ = sn.heatmap(df_cm, annot=True, fmt='d')"
   ]
  },
  {
   "cell_type": "markdown",
   "metadata": {},
   "source": [
    "#### 7.2 KNN - Gray"
   ]
  },
  {
   "cell_type": "code",
   "execution_count": 40,
   "metadata": {},
   "outputs": [
    {
     "name": "stdout",
     "output_type": "stream",
     "text": [
      "n_neighbors: 56 AUC: 0.7125607631465543\n",
      "n_neighbors: 57 AUC: 0.7125272270877454\n",
      "n_neighbors: 58 AUC: 0.714769951020586\n",
      "n_neighbors: 59 AUC: 0.7161189389861714\n",
      "n_neighbors: 60 AUC: 0.7151170492292576\n"
     ]
    }
   ],
   "source": [
    "for n_neighbors in range(56, 61):\n",
    "    knn_reg = KNeighborsRegressor(n_neighbors=n_neighbors, n_jobs=-1)\n",
    "    _ = knn_reg.fit(X_gray_train, y_gray_train)\n",
    "    predictions = knn_reg.predict(X_gray_test)\n",
    "    print('n_neighbors:', n_neighbors, 'AUC:', roc_auc_score(y_true=y_gray_test, y_score=predictions))"
   ]
  },
  {
   "cell_type": "raw",
   "metadata": {},
   "source": [
    "n_neighbors: 10 AUC: 0.6207323269162085\n",
    "n_neighbors: 11 AUC: 0.632246094306751\n",
    "n_neighbors: 12 AUC: 0.6359576976154185\n",
    "n_neighbors: 13 AUC: 0.6387629889347775\n",
    "n_neighbors: 14 AUC: 0.6391100871434487\n",
    "n_neighbors: 15 AUC: 0.6414408432306626\n",
    "n_neighbors: 16 AUC: 0.6459036542566481\n",
    "n_neighbors: 17 AUC: 0.6533838721739582\n",
    "n_neighbors: 18 AUC: 0.6609496070412308\n",
    "n_neighbors: 19 AUC: 0.6643929218794278\n",
    "n_neighbors: 20 AUC: 0.6717633092041391\n",
    "n_neighbors: 21 AUC: 0.6731047515564923\n",
    "n_neighbors: 22 AUC: 0.6846084581293922\n",
    "n_neighbors: 23 AUC: 0.6899306306623539\n",
    "n_neighbors: 24 AUC: 0.6974251014046577\n",
    "n_neighbors: 25 AUC: 0.6984554968115592\n",
    "n_neighbors: 26 AUC: 0.6984102231321674\n",
    "n_neighbors: 27 AUC: 0.6973949189517299\n",
    "n_neighbors: 28 AUC: 0.6957055399892349\n",
    "n_neighbors: 29 AUC: 0.7027330211126259\n",
    "n_neighbors: 30 AUC: 0.7049933514763411\n",
    "n_neighbors: 31 AUC: 0.7087980173482032\n",
    "n_neighbors: 32 AUC: 0.7070667183121973\n",
    "n_neighbors: 33 AUC: 0.7106089645238802\n",
    "n_neighbors: 34 AUC: 0.7096624092640009\n",
    "n_neighbors: 35 AUC: 0.7137714148695531\n",
    "n_neighbors: 36 AUC: 0.7151430396748344\n",
    "n_neighbors: 37 AUC: 0.7162514064184663\n",
    "n_neighbors: 38 AUC: 0.7149200248837556\n",
    "n_neighbors: 39 AUC: 0.7144656112868959\n",
    "n_neighbors: 40 AUC: 0.716546523735984\n",
    "n_neighbors: 41 AUC: 0.7153283263997532\n",
    "n_neighbors: 42 AUC: 0.7167125272270878\n",
    "n_neighbors: 43 AUC: 0.716956502054922\n",
    "n_neighbors: 44 AUC: 0.7160367756420898\n",
    "n_neighbors: 45 AUC: 0.715931137056842\n",
    "n_neighbors: 46 AUC: 0.715779386390732\n",
    "n_neighbors: 47 AUC: 0.7153383872173958\n",
    "n_neighbors: 48 AUC: 0.714348235081065\n",
    "n_neighbors: 49 AUC: 0.7158850249759797\n",
    "n_neighbors: 50 AUC: 0.7132407067389034\n",
    "n_neighbors: 51 AUC: 0.7118959107806692\n",
    "n_neighbors: 52 AUC: 0.7141939692105445\n",
    "n_neighbors: 53 AUC: 0.7131669274095239\n",
    "n_neighbors: 54 AUC: 0.7134553375152799\n",
    "n_neighbors: 55 AUC: 0.7127125138126641\n",
    "n_neighbors: 56 AUC: 0.7125607631465543\n",
    "n_neighbors: 57 AUC: 0.7125272270877454\n",
    "n_neighbors: 58 AUC: 0.714769951020586\n",
    "n_neighbors: 59 AUC: 0.7161189389861714\n",
    "n_neighbors: 60 AUC: 0.7151170492292576"
   ]
  },
  {
   "cell_type": "code",
   "execution_count": 43,
   "metadata": {},
   "outputs": [
    {
     "data": {
      "text/plain": [
       "0.7167125272270878"
      ]
     },
     "execution_count": 43,
     "metadata": {},
     "output_type": "execute_result"
    }
   ],
   "source": [
    "knn_reg = KNeighborsRegressor(n_neighbors=42, n_jobs=-1)\n",
    "_ = knn_reg.fit(X_gray_train, y_gray_train)\n",
    "predictions = knn_reg.predict(X_gray_test)\n",
    "roc_auc_score(y_true=y_gray_test, y_score=predictions)"
   ]
  },
  {
   "cell_type": "markdown",
   "metadata": {},
   "source": [
    "#### 7.3 Logistic Regression - RGB"
   ]
  },
  {
   "cell_type": "code",
   "execution_count": 80,
   "metadata": {},
   "outputs": [
    {
     "data": {
      "text/plain": [
       "0.7214327275044309"
      ]
     },
     "execution_count": 80,
     "metadata": {},
     "output_type": "execute_result"
    }
   ],
   "source": [
    "lr_clf = LogisticRegression(n_jobs=-1, solver='lbfgs', class_weight='balanced')\n",
    "_ = lr_clf.fit(X_rgb_train, y_rgb_train)\n",
    "predictions = lr_clf.predict_proba(X_rgb_test)[:, 1]\n",
    "roc_auc_score(y_true=y_rgb_test, y_score=predictions)"
   ]
  },
  {
   "cell_type": "code",
   "execution_count": 84,
   "metadata": {},
   "outputs": [
    {
     "data": {
      "image/png": "[encoded data removed]",
      "text/plain": [
       "<Figure size 864x576 with 2 Axes>"
      ]
     },
     "metadata": {
      "needs_background": "light"
     },
     "output_type": "display_data"
    }
   ],
   "source": [
    "threshold = .3\n",
    "cm = confusion_matrix(y_true=y_rgb_test, y_pred=np.array(predictions > threshold, dtype=np.int16))\n",
    "df_cm = pd.DataFrame(cm)\n",
    "_ = plt.figure(figsize = (12, 8))\n",
    "_ = sn.heatmap(df_cm, annot=True, fmt='d')"
   ]
  },
  {
   "cell_type": "markdown",
   "metadata": {},
   "source": [
    "#### 7.4 Logistic Regression - Gray"
   ]
  },
  {
   "cell_type": "code",
   "execution_count": 85,
   "metadata": {},
   "outputs": [
    {
     "data": {
      "text/plain": [
       "0.6746767543131563"
      ]
     },
     "execution_count": 85,
     "metadata": {},
     "output_type": "execute_result"
    }
   ],
   "source": [
    "lr_clf = LogisticRegression(n_jobs=-1, solver='lbfgs', class_weight='balanced')\n",
    "_ = lr_clf.fit(X_gray_train, y_gray_train)\n",
    "predictions = lr_clf.predict_proba(X_gray_test)[:, 1]\n",
    "roc_auc_score(y_true=y_gray_test, y_score=predictions)"
   ]
  },
  {
   "cell_type": "markdown",
   "metadata": {},
   "source": [
    "#### 7.5 Random Forest - RGB"
   ]
  },
  {
   "cell_type": "code",
   "execution_count": 68,
   "metadata": {},
   "outputs": [
    {
     "name": "stdout",
     "output_type": "stream",
     "text": [
      "n_estimators: 50\n",
      "[0.7652 0.7824 0.7884 0.7931 0.7926 0.7926 0.7926 0.7926]\n",
      "n_estimators: 100\n",
      "[0.7667 0.7832 0.8001 0.8022 0.8029 0.8029 0.8029 0.8029]\n",
      "n_estimators: 200\n",
      "[0.7678 0.7824 0.8003 0.8035 0.8031 0.8031 0.8031 0.8031]\n",
      "n_estimators: 500\n",
      "[0.7664 0.7818 0.8018 0.804  0.804  0.804  0.804  0.804 ]\n"
     ]
    }
   ],
   "source": [
    "np.set_printoptions(precision=4)\n",
    "\n",
    "for n_estimators in [50, 100, 200, 500]:\n",
    "    accs = []\n",
    "    print('n_estimators:', n_estimators)\n",
    "    for max_depth in [5, 10, 25, 50, 100, 150, 200, 300]:\n",
    "        rf_clf = RandomForestClassifier(class_weight='balanced', n_estimators=n_estimators, \n",
    "                                        max_depth=max_depth, n_jobs=-1, random_state=42)\n",
    "        _ = rf_clf.fit(X_rgb_train, y_rgb_train)\n",
    "        predictions = rf_clf.predict_proba(X_rgb_test)[:, 1]\n",
    "        accs.append(roc_auc_score(y_true=y_rgb_test, y_score=predictions))\n",
    "    print(np.array(accs))"
   ]
  },
  {
   "cell_type": "raw",
   "metadata": {},
   "source": [
    "n_estimators: 50\n",
    "[0.7652 0.7824 0.7884 0.7931 0.7926 0.7926 0.7926 0.7926]\n",
    "n_estimators: 100\n",
    "[0.7667 0.7832 0.8001 0.8022 0.8029 0.8029 0.8029 0.8029]\n",
    "n_estimators: 200\n",
    "[0.7678 0.7824 0.8003 0.8035 0.8031 0.8031 0.8031 0.8031]\n",
    "n_estimators: 500\n",
    "[0.7664 0.7818 0.8018 0.804  0.804  0.804  0.804  0.804 ]"
   ]
  },
  {
   "cell_type": "code",
   "execution_count": 69,
   "metadata": {},
   "outputs": [
    {
     "data": {
      "text/plain": [
       "0.8034728265699487"
      ]
     },
     "execution_count": 69,
     "metadata": {},
     "output_type": "execute_result"
    }
   ],
   "source": [
    "rf_clf = RandomForestClassifier(class_weight='balanced', n_estimators=200, max_depth=50, n_jobs=-1, random_state=42)\n",
    "_ = rf_clf.fit(X_rgb_train, y_rgb_train)\n",
    "predictions = rf_clf.predict_proba(X_rgb_test)[:, 1]\n",
    "roc_auc_score(y_true=y_rgb_test, y_score=predictions)"
   ]
  },
  {
   "cell_type": "code",
   "execution_count": 72,
   "metadata": {},
   "outputs": [
    {
     "data": {
      "image/png": "[encoded data removed]",
      "text/plain": [
       "<Figure size 864x576 with 2 Axes>"
      ]
     },
     "metadata": {
      "needs_background": "light"
     },
     "output_type": "display_data"
    }
   ],
   "source": [
    "threshold = .3\n",
    "cm = confusion_matrix(y_true=y_rgb_test, y_pred=np.array(predictions > threshold, dtype=np.int16))\n",
    "df_cm = pd.DataFrame(cm)\n",
    "_ = plt.figure(figsize = (12, 8))\n",
    "_ = sn.heatmap(df_cm, annot=True, fmt='d')"
   ]
  },
  {
   "cell_type": "markdown",
   "metadata": {},
   "source": [
    "#### 7.6 Random Forest - Gray"
   ]
  },
  {
   "cell_type": "code",
   "execution_count": 73,
   "metadata": {},
   "outputs": [
    {
     "name": "stdout",
     "output_type": "stream",
     "text": [
      "n_estimators: 50\n",
      "[0.7173 0.7386 0.7596 0.7669 0.7668 0.7668 0.7668 0.7668]\n",
      "n_estimators: 100\n",
      "[0.7184 0.7474 0.7653 0.7692 0.7692 0.7692 0.7692 0.7692]\n",
      "n_estimators: 200\n",
      "[0.7182 0.7477 0.7663 0.7662 0.7665 0.7665 0.7665 0.7665]\n",
      "n_estimators: 500\n",
      "[0.7186 0.7501 0.7647 0.7648 0.7649 0.7649 0.7649 0.7649]\n"
     ]
    }
   ],
   "source": [
    "np.set_printoptions(precision=4)\n",
    "\n",
    "for n_estimators in [50, 100, 200, 500]:\n",
    "    accs = []\n",
    "    print('n_estimators:', n_estimators)\n",
    "    for max_depth in [5, 10, 25, 50, 100, 150, 200, 300]:\n",
    "        rf_clf = RandomForestClassifier(n_estimators=n_estimators, max_depth=max_depth, n_jobs=-1, random_state=42)\n",
    "        _ = rf_clf.fit(X_gray_train, y_gray_train)\n",
    "        predictions = rf_clf.predict_proba(X_gray_test)[:, 1]\n",
    "        accs.append(roc_auc_score(y_true=y_rgb_test, y_score=predictions))\n",
    "    print(np.array(accs))"
   ]
  },
  {
   "cell_type": "raw",
   "metadata": {},
   "source": [
    "n_estimators: 50\n",
    "[0.7173 0.7386 0.7596 0.7669 0.7668 0.7668 0.7668 0.7668]\n",
    "n_estimators: 100\n",
    "[0.7184 0.7474 0.7653 0.7692 0.7692 0.7692 0.7692 0.7692]\n",
    "n_estimators: 200\n",
    "[0.7182 0.7477 0.7663 0.7662 0.7665 0.7665 0.7665 0.7665]\n",
    "n_estimators: 500\n",
    "[0.7186 0.7501 0.7647 0.7648 0.7649 0.7649 0.7649 0.7649]"
   ]
  },
  {
   "cell_type": "code",
   "execution_count": 75,
   "metadata": {},
   "outputs": [
    {
     "data": {
      "text/plain": [
       "RandomForestClassifier(bootstrap=True, class_weight=None, criterion='gini',\n",
       "                       max_depth=50, max_features='auto', max_leaf_nodes=None,\n",
       "                       min_impurity_decrease=0.0, min_impurity_split=None,\n",
       "                       min_samples_leaf=1, min_samples_split=2,\n",
       "                       min_weight_fraction_leaf=0.0, n_estimators=100,\n",
       "                       n_jobs=-1, oob_score=False, random_state=42, verbose=0,\n",
       "                       warm_start=False)"
      ]
     },
     "execution_count": 75,
     "metadata": {},
     "output_type": "execute_result"
    },
    {
     "data": {
      "text/plain": [
       "0.7691981360658514"
      ]
     },
     "execution_count": 75,
     "metadata": {},
     "output_type": "execute_result"
    }
   ],
   "source": [
    "rf_clf = RandomForestClassifier(n_estimators=100, max_depth=50, n_jobs=-1, random_state=42)\n",
    "rf_clf.fit(X_gray_train, y_gray_train)\n",
    "_ = predictions = rf_clf.predict_proba(X_gray_test)[:, 1]\n",
    "roc_auc_score(y_true=y_gray_test, y_score=predictions)"
   ]
  }
 ],
 "metadata": {
  "kernelspec": {
   "display_name": "Python 3",
   "language": "python",
   "name": "python3"
  },
  "language_info": {
   "codemirror_mode": {
    "name": "ipython",
    "version": 3
   },
   "file_extension": ".py",
   "mimetype": "text/x-python",
   "name": "python",
   "nbconvert_exporter": "python",
   "pygments_lexer": "ipython3",
   "version": "3.7.3"
  }
 },
 "nbformat": 4,
 "nbformat_minor": 4
}
