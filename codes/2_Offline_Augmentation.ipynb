{
 "cells": [
  {
   "cell_type": "markdown",
   "metadata": {},
   "source": [
    "# Notebook 2 - Offline Data Augmentation"
   ]
  },
  {
   "cell_type": "markdown",
   "metadata": {},
   "source": [
    "### 1. Setup constants"
   ]
  },
  {
   "cell_type": "code",
   "execution_count": 1,
   "metadata": {},
   "outputs": [],
   "source": [
    "from constants import *\n",
    "\n",
    "NUM_AUG_IMAGES_WANTED = 1000\n",
    "\n",
    "IMAGE_SIZE = 224"
   ]
  },
  {
   "cell_type": "markdown",
   "metadata": {},
   "source": [
    "### 2. Imports and notebook setup"
   ]
  },
  {
   "cell_type": "code",
   "execution_count": 2,
   "metadata": {},
   "outputs": [],
   "source": [
    "# Set up multiple outputs for cells\n",
    "from IPython.core.interactiveshell import InteractiveShell\n",
    "InteractiveShell.ast_node_interactivity = \"all\"\n",
    "\n",
    "# Printing with markdown\n",
    "from IPython.display import Markdown, display\n",
    "def printmd(string):\n",
    "    display(Markdown(string))"
   ]
  },
  {
   "cell_type": "code",
   "execution_count": 3,
   "metadata": {},
   "outputs": [],
   "source": [
    "# Default imports\n",
    "import os\n",
    "import random\n",
    "import shutil\n",
    "from send2trash import send2trash\n",
    "import numpy as np\n",
    "import pandas as pd"
   ]
  },
  {
   "cell_type": "markdown",
   "metadata": {},
   "source": [
    "### 3. Data augmentation offline and save to directory"
   ]
  },
  {
   "cell_type": "code",
   "execution_count": 4,
   "metadata": {},
   "outputs": [
    {
     "name": "stdout",
     "output_type": "stream",
     "text": [
      "ak 616\n",
      "bcc 2369\n",
      "bkl 1804\n",
      "df 163\n",
      "nv 3500\n",
      "vasc 185\n",
      "mel 3207\n",
      "scc 452\n"
     ]
    }
   ],
   "source": [
    "# Check number of examples of each class in the train set\n",
    "for cls in CLASSES_2019:\n",
    "    print(cls, len([x for x in os.listdir(os.path.join(TRAIN_PATH, cls)) if x[0] != '.']))"
   ]
  },
  {
   "cell_type": "code",
   "execution_count": 5,
   "metadata": {},
   "outputs": [],
   "source": [
    "###########################################################\n",
    "# Augmentation for classes other than melanoma\n",
    "###########################################################\n",
    "np.random.seed(100)\n",
    "\n",
    "aug_classes = [x for x in CLASSES_2019 if x != 'mel']\n",
    "\n",
    "for cls in aug_classes:\n",
    "    images = [x for x in os.listdir(os.path.join(TRAIN_PATH, cls)) if x[0] != '.']\n",
    "    \n",
    "    if len(images) < NUM_AUG_IMAGES_WANTED:\n",
    "        remainder = NUM_AUG_IMAGES_WANTED % len(images)\n",
    "        multiple = -1 + round((NUM_AUG_IMAGES_WANTED - remainder) / len(images))\n",
    "        extra_imgs = np.random.choice(images, size=remainder, replace=False)\n",
    "        \n",
    "        if multiple > 0:\n",
    "            for img in images:\n",
    "                    for i in range(multiple):\n",
    "                        origin = os.path.join(TRAIN_PATH, cls, img)\n",
    "                        destiny = os.path.join(TRAIN_PATH, cls, str(i + 1) + '_' + img)\n",
    "                        _ = shutil.copyfile(origin, destiny)\n",
    "        \n",
    "        if remainder > 0:\n",
    "            for img in extra_imgs:\n",
    "                origin = os.path.join(TRAIN_PATH, cls, img)\n",
    "                destiny = os.path.join(TRAIN_PATH, cls, str(multiple + 1) + '_' + img)\n",
    "                _ = shutil.copyfile(origin, destiny)"
   ]
  },
  {
   "cell_type": "code",
   "execution_count": 6,
   "metadata": {},
   "outputs": [
    {
     "name": "stdout",
     "output_type": "stream",
     "text": [
      "ak 1000\n",
      "bcc 2369\n",
      "bkl 1804\n",
      "df 1000\n",
      "nv 3500\n",
      "vasc 1000\n",
      "mel 3207\n",
      "scc 1000\n"
     ]
    }
   ],
   "source": [
    "# Check examples of each class\n",
    "for cls in CLASSES_2019:\n",
    "    print(cls, len([x for x in os.listdir(os.path.join(DATA_PROCESSED_DIR_PATH, SPLIT_DIRS[0], cls)) if x[0] != '.']))"
   ]
  },
  {
   "cell_type": "code",
   "execution_count": 7,
   "metadata": {},
   "outputs": [],
   "source": [
    "os.mkdir(os.path.join(TRAIN_PATH, 'other'))"
   ]
  },
  {
   "cell_type": "code",
   "execution_count": 8,
   "metadata": {},
   "outputs": [],
   "source": [
    "for cls in aug_classes:\n",
    "    images = [x for x in os.listdir(os.path.join(TRAIN_PATH, cls)) if x[0] != '.']\n",
    "    for img in images:\n",
    "        origin = os.path.join(TRAIN_PATH, cls, img)\n",
    "        destiny = os.path.join(TRAIN_PATH, 'other', img)\n",
    "        _ = shutil.copyfile(origin, destiny)"
   ]
  },
  {
   "cell_type": "code",
   "execution_count": 9,
   "metadata": {},
   "outputs": [],
   "source": [
    "for cls in aug_classes:\n",
    "    send2trash(os.path.join(TRAIN_PATH, cls))"
   ]
  },
  {
   "cell_type": "code",
   "execution_count": 10,
   "metadata": {},
   "outputs": [
    {
     "data": {
      "text/plain": [
       "11673"
      ]
     },
     "execution_count": 10,
     "metadata": {},
     "output_type": "execute_result"
    }
   ],
   "source": [
    "len([x for x in os.listdir(os.path.join(TRAIN_PATH, 'other')) if x[0] != '.'])"
   ]
  }
 ],
 "metadata": {
  "kernelspec": {
   "display_name": "Python 3 (Intel, 2019 update 2)",
   "language": "python",
   "name": "c009-intel_distribution_of_python_3_2019u2"
  },
  "language_info": {
   "codemirror_mode": {
    "name": "ipython",
    "version": 3
   },
   "file_extension": ".py",
   "mimetype": "text/x-python",
   "name": "python",
   "nbconvert_exporter": "python",
   "pygments_lexer": "ipython3",
   "version": "3.6.8"
  }
 },
 "nbformat": 4,
 "nbformat_minor": 4
}
