{
 "cells": [
  {
   "cell_type": "markdown",
   "metadata": {},
   "source": [
    "# Notebook 2 - Offline Data Augmentation"
   ]
  },
  {
   "cell_type": "markdown",
   "metadata": {},
   "source": [
    "### 1. Setup constants"
   ]
  },
  {
   "cell_type": "code",
   "execution_count": 1,
   "metadata": {},
   "outputs": [],
   "source": [
    "from constants import *\n",
    "\n",
    "IMAGE_SIZE = 224"
   ]
  },
  {
   "cell_type": "markdown",
   "metadata": {},
   "source": [
    "### 2. Imports and notebook setup"
   ]
  },
  {
   "cell_type": "code",
   "execution_count": 2,
   "metadata": {},
   "outputs": [],
   "source": [
    "# Set up multiple outputs for cells\n",
    "from IPython.core.interactiveshell import InteractiveShell\n",
    "InteractiveShell.ast_node_interactivity = \"all\"\n",
    "\n",
    "# Printing with markdown\n",
    "from IPython.display import Markdown, display\n",
    "def printmd(string):\n",
    "    display(Markdown(string))"
   ]
  },
  {
   "cell_type": "code",
   "execution_count": 3,
   "metadata": {},
   "outputs": [],
   "source": [
    "# Default imports\n",
    "import os\n",
    "import random\n",
    "import shutil\n",
    "from send2trash import send2trash\n",
    "import numpy as np\n",
    "import pandas as pd\n",
    "import matplotlib.pyplot as plt\n",
    "import glob"
   ]
  },
  {
   "cell_type": "markdown",
   "metadata": {},
   "source": [
    "### 3. Data augmentation offline and save to directory"
   ]
  },
  {
   "cell_type": "code",
   "execution_count": 4,
   "metadata": {},
   "outputs": [
    {
     "name": "stdout",
     "output_type": "stream",
     "text": [
      "ak 616\n",
      "bcc 1383\n",
      "bkl 1532\n",
      "df 163\n",
      "nv 2000\n",
      "vasc 185\n",
      "mel 1761\n",
      "scc 452\n"
     ]
    }
   ],
   "source": [
    "# Check number of examples of each class in the train set\n",
    "for cls in CLASSES_2019:\n",
    "    print(cls, len([x for x in os.listdir(os.path.join(TRAIN_PATH, cls)) if x[0] != '.']))"
   ]
  },
  {
   "cell_type": "code",
   "execution_count": 5,
   "metadata": {},
   "outputs": [],
   "source": [
    "def clean_vec(x):\n",
    "    x = x.split('/')[-1]\n",
    "    i = 0\n",
    "    while x[i].isnumeric():\n",
    "        i += 1\n",
    "    if i == 0:\n",
    "        return x\n",
    "    return x[i+1:]"
   ]
  },
  {
   "cell_type": "code",
   "execution_count": 6,
   "metadata": {},
   "outputs": [],
   "source": [
    "# ###########################################################\n",
    "# # Augmentation for classes other than melanoma\n",
    "# ###########################################################\n",
    "\n",
    "# NUM_AUG_IMAGES_WANTED = 1000\n",
    "\n",
    "# np.random.seed(100)\n",
    "\n",
    "# aug_classes = [x for x in CLASSES_2019 if x != 'mel']\n",
    "\n",
    "# for cls in aug_classes:\n",
    "#     images = [x for x in os.listdir(os.path.join(TRAIN_PATH, cls)) if x[0] != '.']\n",
    "    \n",
    "#     if len(images) < NUM_AUG_IMAGES_WANTED:\n",
    "#         remainder = NUM_AUG_IMAGES_WANTED % len(images)\n",
    "#         multiple = -1 + round((NUM_AUG_IMAGES_WANTED - remainder) / len(images))\n",
    "#         extra_imgs = np.random.choice(images, size=remainder, replace=False)\n",
    "        \n",
    "#         if multiple > 0:\n",
    "#             for img in images:\n",
    "#                     for i in range(multiple):\n",
    "#                         origin = os.path.join(TRAIN_PATH, cls, img)\n",
    "#                         destiny = os.path.join(TRAIN_PATH, cls, str(i + 1) + '_' + img)\n",
    "#                         _ = shutil.copyfile(origin, destiny)\n",
    "        \n",
    "#         if remainder > 0:\n",
    "#             for img in extra_imgs:\n",
    "#                 origin = os.path.join(TRAIN_PATH, cls, img)\n",
    "#                 destiny = os.path.join(TRAIN_PATH, cls, str(multiple + 1) + '_' + img)\n",
    "#                 _ = shutil.copyfile(origin, destiny)"
   ]
  },
  {
   "cell_type": "code",
   "execution_count": 7,
   "metadata": {},
   "outputs": [],
   "source": [
    "###########################################################\n",
    "# Shape Balanced Augmentation\n",
    "###########################################################\n",
    "np.random.seed(100)\n",
    "\n",
    "# aug_classes = [x for x in CLASSES_2019 if x != 'mel']\n",
    "aug_classes = CLASSES_2019\n",
    "name_2_dim = {}\n",
    "for cls in aug_classes:\n",
    "    images = [x for x in os.listdir(os.path.join(TRAIN_PATH, cls)) if x[0] != '.']\n",
    "    \n",
    "    # Create dictionary shape to images file name\n",
    "    dim_2_files = {}\n",
    "    keys = set()\n",
    "    for img_name in images:\n",
    "        img_shape = plt.imread('../ISIC-2019/ISIC_2019_Training_Input/' + img_name).shape\n",
    "        if img_shape not in keys:\n",
    "            keys.add(img_shape)\n",
    "            dim_2_files[img_shape] = [img_name]\n",
    "        else:\n",
    "            dim_2_files[img_shape].append(img_name)\n",
    "            \n",
    "        name_2_dim[img_name] = img_shape\n",
    "\n",
    "    for key, items in dim_2_files.items():\n",
    "        # num_images_limit = 2000 if cls == 'mel' else 1000\n",
    "        num_images_limit = 1000\n",
    "        if len(items) < num_images_limit:\n",
    "            remainder = num_images_limit % len(items)\n",
    "            multiple = -1 + round((num_images_limit - remainder) / len(items))\n",
    "            extra_items = np.random.choice(items, size=remainder, replace=False)\n",
    "\n",
    "            if multiple > 0:\n",
    "                for img in items:\n",
    "                        for i in range(multiple):\n",
    "                            origin = os.path.join(TRAIN_PATH, cls, img)\n",
    "                            destiny = os.path.join(TRAIN_PATH, cls, str(i + 1) + '_' + img)\n",
    "                            _ = shutil.copyfile(origin, destiny)\n",
    "\n",
    "            if remainder > 0:\n",
    "                for img in extra_items:\n",
    "                    origin = os.path.join(TRAIN_PATH, cls, img)\n",
    "                    destiny = os.path.join(TRAIN_PATH, cls, str(multiple + 1) + '_' + img)\n",
    "                    _ = shutil.copyfile(origin, destiny)"
   ]
  },
  {
   "cell_type": "code",
   "execution_count": 8,
   "metadata": {},
   "outputs": [
    {
     "name": "stdout",
     "output_type": "stream",
     "text": [
      "ak 2000\n",
      "bcc 2000\n",
      "bkl 2000\n",
      "df 2000\n",
      "nv 2000\n",
      "vasc 2000\n",
      "mel 2000\n",
      "scc 2000\n"
     ]
    }
   ],
   "source": [
    "# Check examples of each class\n",
    "for cls in CLASSES_2019:\n",
    "    print(cls, len([x for x in os.listdir(os.path.join(DATA_PROCESSED_DIR_PATH, SPLIT_DIRS[0], cls)) if x[0] != '.']))"
   ]
  },
  {
   "cell_type": "code",
   "execution_count": 9,
   "metadata": {},
   "outputs": [
    {
     "name": "stdout",
     "output_type": "stream",
     "text": [
      "ak\n",
      "{(1024, 1024, 3): 1000, (450, 600, 3): 1000}\n",
      "\n",
      "bcc\n",
      "{(450, 600, 3): 1000, (1024, 1024, 3): 1000}\n",
      "\n",
      "bkl\n",
      "{(450, 600, 3): 1000, (1024, 1024, 3): 1000}\n",
      "\n",
      "df\n",
      "{(450, 600, 3): 1000, (1024, 1024, 3): 1000}\n",
      "\n",
      "nv\n",
      "{(1024, 1024, 3): 1000, (450, 600, 3): 1000}\n",
      "\n",
      "vasc\n",
      "{(450, 600, 3): 1000, (1024, 1024, 3): 1000}\n",
      "\n",
      "mel\n",
      "{(1024, 1024, 3): 1000, (450, 600, 3): 1000}\n",
      "\n",
      "scc\n",
      "{(1024, 1024, 3): 1000, (450, 600, 3): 1000}\n",
      "\n"
     ]
    }
   ],
   "source": [
    "# Check examples of each class\n",
    "for cls in CLASSES_2019:\n",
    "    shape_2_counts = {}\n",
    "    keys = set()\n",
    "    images = [x for x in os.listdir(os.path.join(DATA_PROCESSED_DIR_PATH, SPLIT_DIRS[0], cls)) if x[0] != '.']\n",
    "    images = list(map(clean_vec, images))\n",
    "    for img_name in images:\n",
    "        img_shape = name_2_dim[img_name]\n",
    "        if img_shape not in keys:\n",
    "            keys.add(img_shape)\n",
    "            shape_2_counts[img_shape] = 1\n",
    "        else:\n",
    "            shape_2_counts[img_shape] += 1\n",
    "    print(cls)\n",
    "    print(shape_2_counts)\n",
    "    print()"
   ]
  },
  {
   "cell_type": "code",
   "execution_count": 10,
   "metadata": {},
   "outputs": [],
   "source": [
    "os.mkdir(os.path.join(TRAIN_PATH, 'other'))"
   ]
  },
  {
   "cell_type": "code",
   "execution_count": 11,
   "metadata": {},
   "outputs": [],
   "source": [
    "for cls in aug_classes:\n",
    "    images = [x for x in os.listdir(os.path.join(TRAIN_PATH, cls)) if x[0] != '.']\n",
    "    for img in images:\n",
    "        origin = os.path.join(TRAIN_PATH, cls, img)\n",
    "        destiny = os.path.join(TRAIN_PATH, 'other', img)\n",
    "        _ = shutil.copyfile(origin, destiny)"
   ]
  },
  {
   "cell_type": "code",
   "execution_count": 12,
   "metadata": {},
   "outputs": [],
   "source": [
    "for cls in aug_classes:\n",
    "    send2trash(os.path.join(TRAIN_PATH, cls))"
   ]
  },
  {
   "cell_type": "code",
   "execution_count": 13,
   "metadata": {},
   "outputs": [
    {
     "data": {
      "text/plain": [
       "16000"
      ]
     },
     "execution_count": 13,
     "metadata": {},
     "output_type": "execute_result"
    }
   ],
   "source": [
    "len([x for x in os.listdir(os.path.join(TRAIN_PATH, 'other')) if x[0] != '.'])"
   ]
  }
 ],
 "metadata": {
  "kernelspec": {
   "display_name": "Python 3",
   "language": "python",
   "name": "python3"
  },
  "language_info": {
   "codemirror_mode": {
    "name": "ipython",
    "version": 3
   },
   "file_extension": ".py",
   "mimetype": "text/x-python",
   "name": "python",
   "nbconvert_exporter": "python",
   "pygments_lexer": "ipython3",
   "version": "3.7.3"
  }
 },
 "nbformat": 4,
 "nbformat_minor": 4
}
