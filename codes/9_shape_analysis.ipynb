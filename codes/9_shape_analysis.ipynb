{
 "cells": [
  {
   "cell_type": "code",
   "execution_count": 1,
   "metadata": {},
   "outputs": [],
   "source": [
    "from constants import *"
   ]
  },
  {
   "cell_type": "code",
   "execution_count": 2,
   "metadata": {},
   "outputs": [],
   "source": [
    "import matplotlib.pyplot as plt\n",
    "import glob\n",
    "import pandas as pd\n",
    "import os\n",
    "import numpy as np\n",
    "import pandas as pd\n",
    "import matplotlib.pyplot as plt"
   ]
  },
  {
   "cell_type": "code",
   "execution_count": 3,
   "metadata": {},
   "outputs": [],
   "source": [
    "# Set up multiple outputs for cells\n",
    "from IPython.core.interactiveshell import InteractiveShell\n",
    "InteractiveShell.ast_node_interactivity = \"all\""
   ]
  },
  {
   "cell_type": "markdown",
   "metadata": {},
   "source": [
    "## 0. All shapes"
   ]
  },
  {
   "cell_type": "code",
   "execution_count": 5,
   "metadata": {},
   "outputs": [],
   "source": [
    "shapes = set()\n",
    "images_path = glob.glob('../ISIC-2019/ISIC_2019_Training_Input/*.jpg')\n",
    "# images_names = list(map(lambda x: x.split('/')[-1], images_path))\n",
    "for img_path in images_path:\n",
    "    shapes.add(plt.imread(img_path).shape)"
   ]
  },
  {
   "cell_type": "code",
   "execution_count": 6,
   "metadata": {},
   "outputs": [
    {
     "data": {
      "text/plain": [
       "101"
      ]
     },
     "execution_count": 6,
     "metadata": {},
     "output_type": "execute_result"
    }
   ],
   "source": [
    "len(shapes)"
   ]
  },
  {
   "cell_type": "code",
   "execution_count": 8,
   "metadata": {},
   "outputs": [
    {
     "name": "stdout",
     "output_type": "stream",
     "text": [
      "(1024, 1024, 3)\n"
     ]
    }
   ],
   "source": [
    "for s in shapes:\n",
    "    if s[0] == s[1]:\n",
    "        print(s)"
   ]
  },
  {
   "cell_type": "markdown",
   "metadata": {},
   "source": [
    "## 1. Check shapes by all classes"
   ]
  },
  {
   "cell_type": "code",
   "execution_count": 4,
   "metadata": {},
   "outputs": [],
   "source": [
    "df_2019 = pd.read_csv('../ISIC-2019/ISIC_2019_Training_Metadata.csv')\n",
    "\n",
    "df_2019_target = pd.read_csv('../ISIC-2019/ISIC_2019_Training_GroundTruth.csv', \n",
    "                             index_col='image').drop('UNK', axis=1)\n",
    "df_2019_target = df_2019_target.astype(int)\n",
    "\n",
    "df = pd.merge(left=df_2019_target, right=df_2019[['image', 'lesion_id']], on='image', how='left')"
   ]
  },
  {
   "cell_type": "code",
   "execution_count": 11,
   "metadata": {},
   "outputs": [],
   "source": [
    "import random\n",
    "def train_test_split_on_column(df, column_to_split, test_rate=0.15, val_rate=0.15, random_seed=40):\n",
    "    # Setting random seed for the split\n",
    "    random.seed(random_seed)\n",
    "    \n",
    "    num_of_missing = df[column_to_split].isnull().sum()\n",
    "    fill_missing_values = ['missing_' + str(x) for x in range(num_of_missing)]\n",
    "    \n",
    "    null_indices = df[df[column_to_split].isna()].index\n",
    "    for i, fill_label in zip(null_indices, fill_missing_values):\n",
    "        df.loc[i, column_to_split] = fill_label\n",
    "    \n",
    "    values = df[column_to_split].unique().tolist()\n",
    "    \n",
    "    test_size = round(test_rate * len(values))\n",
    "    val_size = round(val_rate * len(values))\n",
    "\n",
    "    test_val_values = random.sample(population=values, k=test_size + val_size)\n",
    "    test_values = random.sample(population=test_val_values, k=test_size)\n",
    "    val_values = [x for x in test_val_values if x not in test_values]\n",
    "\n",
    "    df_train = df[~df[column_to_split].isin(test_val_values)]\n",
    "    df_test = df[df[column_to_split].isin(test_values)]\n",
    "    df_val = df[df[column_to_split].isin(val_values)]\n",
    "    \n",
    "    return df_train, df_test, df_val"
   ]
  },
  {
   "cell_type": "code",
   "execution_count": 12,
   "metadata": {},
   "outputs": [],
   "source": [
    "df_train, df_test, df_val = train_test_split_on_column(df, 'lesion_id')"
   ]
  },
  {
   "cell_type": "code",
   "execution_count": 14,
   "metadata": {},
   "outputs": [],
   "source": [
    "df_train_non_mel = df_train[df_train['MEL'] != 1]"
   ]
  },
  {
   "cell_type": "code",
   "execution_count": 16,
   "metadata": {},
   "outputs": [
    {
     "name": "stdout",
     "output_type": "stream",
     "text": [
      "6788\n"
     ]
    }
   ],
   "source": [
    "counter = 0\n",
    "for img in df_train_non_mel.image:\n",
    "    if plt.imread('../ISIC-2019/ISIC_2019_Training_Input/' + img + '.jpg').shape == (1024, 1024, 3):\n",
    "        counter += 1\n",
    "print(counter)"
   ]
  },
  {
   "cell_type": "code",
   "execution_count": 5,
   "metadata": {},
   "outputs": [],
   "source": [
    "class_2_shapes = {}\n",
    "for disease_class in CLASSES_2019:\n",
    "    df_disease = df[df[disease_class.upper()] == 1]\n",
    "    \n",
    "    tmp = []\n",
    "    for img in df_disease.image:\n",
    "        tmp.append(plt.imread(os.path.join('..', 'ISIC-2019', 'ISIC_2019_Training_Input', img + '.' + IMG_FORMAT)).shape)\n",
    "\n",
    "    class_2_shapes[disease_class] = tmp"
   ]
  },
  {
   "cell_type": "code",
   "execution_count": 6,
   "metadata": {},
   "outputs": [
    {
     "data": {
      "text/plain": [
       "2858"
      ]
     },
     "execution_count": 6,
     "metadata": {},
     "output_type": "execute_result"
    }
   ],
   "source": [
    "# Overall number of melanomas (1024, 1024, 3)\n",
    "class_2_shapes['mel'].count((1024, 1024, 3))"
   ]
  },
  {
   "cell_type": "code",
   "execution_count": 7,
   "metadata": {},
   "outputs": [
    {
     "data": {
      "text/plain": [
       "9556"
      ]
     },
     "execution_count": 7,
     "metadata": {},
     "output_type": "execute_result"
    }
   ],
   "source": [
    "# Overall number of non-melanomas (1024, 1024, 3)\n",
    "total = 0\n",
    "for key, items in class_2_shapes.items():\n",
    "    if key != 'mel':\n",
    "        total += items.count((1024, 1024, 3))\n",
    "total"
   ]
  },
  {
   "cell_type": "code",
   "execution_count": 8,
   "metadata": {},
   "outputs": [
    {
     "data": {
      "text/plain": [
       "20809"
      ]
     },
     "execution_count": 8,
     "metadata": {},
     "output_type": "execute_result"
    }
   ],
   "source": [
    "# Overall number of non-melanomas\n",
    "total = 0\n",
    "for key, items in class_2_shapes.items():\n",
    "    if key != 'mel':\n",
    "        total += len(items)\n",
    "total"
   ]
  },
  {
   "cell_type": "code",
   "execution_count": 7,
   "metadata": {},
   "outputs": [
    {
     "name": "stdout",
     "output_type": "stream",
     "text": [
      "19350\n"
     ]
    }
   ],
   "source": [
    "# Number of images from non-melanoma class that have one of the shapes: (450, class_2_shapes, (1024, 1024, 3), (680, 1024, 3)\n",
    "counter = 0\n",
    "for key, items in class_2_shapes.items():\n",
    "    if key != 'mel':\n",
    "        for item in items:\n",
    "            if item in [(450, 600, 3), (1024, 1024, 3), (680, 1024, 3)]:\n",
    "                counter += 1\n",
    "print(counter)"
   ]
  },
  {
   "cell_type": "code",
   "execution_count": null,
   "metadata": {},
   "outputs": [],
   "source": [
    "for key, item in class_2_shapes.items():\n",
    "    print(key)\n",
    "    values, counts = np.unique(ar=np.array(class_2_shapes[key]), return_counts=True, axis=0)\n",
    "    for v, c in zip(values, counts):\n",
    "        print(v, ' -> ', c)\n",
    "    print('-' * 50)"
   ]
  },
  {
   "cell_type": "markdown",
   "metadata": {},
   "source": [
    "## 2. Check shapes by binary classes"
   ]
  },
  {
   "cell_type": "code",
   "execution_count": 3,
   "metadata": {},
   "outputs": [],
   "source": [
    "shapes_mel = []\n",
    "\n",
    "counter = 0\n",
    "files = list(map(lambda x: x.split('/')[-1], glob.glob(os.path.join(TRAIN_PATH, 'mel', '*.' + IMG_FORMAT))))\n",
    "for img in files:\n",
    "    counter += 1\n",
    "    shapes_mel.append(plt.imread(os.path.join('..', 'ISIC-2019', 'ISIC_2019_Training_Input', img)).shape)"
   ]
  },
  {
   "cell_type": "code",
   "execution_count": 4,
   "metadata": {},
   "outputs": [],
   "source": [
    "shapes_non_mel = []\n",
    "\n",
    "counter = 0\n",
    "files = list(map(lambda x: x.split('/')[-1], glob.glob(os.path.join(TRAIN_PATH, 'other', '*.' + IMG_FORMAT))))\n",
    "for img in files:\n",
    "    counter += 1\n",
    "    if str.isnumeric(img[0]) and img[1] == '_':\n",
    "        img = img[2:]\n",
    "    shapes_non_mel.append(plt.imread(os.path.join('..', 'ISIC-2019', 'ISIC_2019_Training_Input', img)).shape)"
   ]
  },
  {
   "cell_type": "code",
   "execution_count": 5,
   "metadata": {},
   "outputs": [],
   "source": [
    "m_values, m_counts = np.unique(ar=shapes_mel, return_index=False, return_inverse=False, return_counts=True, axis=0)\n",
    "nm_values, nm_counts = np.unique(ar=shapes_non_mel, return_index=False, return_inverse=False, return_counts=True, axis=0)"
   ]
  },
  {
   "cell_type": "markdown",
   "metadata": {},
   "source": [
    "## 3. New pre-processing"
   ]
  },
  {
   "cell_type": "code",
   "execution_count": 8,
   "metadata": {},
   "outputs": [
    {
     "name": "stdout",
     "output_type": "stream",
     "text": [
      "[450 600   3]  ->  761\n",
      "[ 680 1024    3]  ->  154\n",
      "[1024 1024    3]  ->  2067\n"
     ]
    }
   ],
   "source": [
    "for value, count in zip(m_values, m_counts):\n",
    "    print(value, ' -> ', count)"
   ]
  },
  {
   "cell_type": "code",
   "execution_count": 9,
   "metadata": {},
   "outputs": [
    {
     "name": "stdout",
     "output_type": "stream",
     "text": [
      "[450 600   3]  ->  25.5%\n",
      "[ 680 1024    3]  ->  5.2%\n",
      "[1024 1024    3]  ->  69.3%\n"
     ]
    }
   ],
   "source": [
    "total = sum(m_counts)\n",
    "for value, count in zip(m_values, m_counts):\n",
    "    print(value, ' -> ', '{:.1%}'.format(count / total))"
   ]
  },
  {
   "cell_type": "code",
   "execution_count": 11,
   "metadata": {},
   "outputs": [
    {
     "data": {
      "text/plain": [
       "10651"
      ]
     },
     "execution_count": 11,
     "metadata": {},
     "output_type": "execute_result"
    }
   ],
   "source": [
    "4793 + 636 + 5222"
   ]
  },
  {
   "cell_type": "code",
   "execution_count": 10,
   "metadata": {},
   "outputs": [
    {
     "name": "stdout",
     "output_type": "stream",
     "text": [
      "[450 600   3]  ->  4793\n",
      "[ 680 1024    3]  ->  636\n",
      "[1024 1024    3]  ->  5222\n"
     ]
    }
   ],
   "source": [
    "for value, count in zip(nm_values, nm_counts):\n",
    "    print(value, ' -> ', count)"
   ]
  },
  {
   "cell_type": "code",
   "execution_count": 11,
   "metadata": {},
   "outputs": [
    {
     "name": "stdout",
     "output_type": "stream",
     "text": [
      "[450 600   3]  ->  45.0%\n",
      "[ 680 1024    3]  ->  6.0%\n",
      "[1024 1024    3]  ->  49.0%\n"
     ]
    }
   ],
   "source": [
    "total = sum(nm_counts)\n",
    "for value, count in zip(nm_values, nm_counts):\n",
    "    print(value, ' -> ', '{:.1%}'.format(count / total))"
   ]
  },
  {
   "cell_type": "code",
   "execution_count": 1,
   "metadata": {},
   "outputs": [
    {
     "data": {
      "text/plain": [
       "100"
      ]
     },
     "execution_count": 1,
     "metadata": {},
     "output_type": "execute_result"
    }
   ],
   "source": [
    "45 + 6 + 49"
   ]
  },
  {
   "cell_type": "markdown",
   "metadata": {},
   "source": [
    "## 4. Before (Old)"
   ]
  },
  {
   "cell_type": "code",
   "execution_count": 6,
   "metadata": {},
   "outputs": [
    {
     "name": "stdout",
     "output_type": "stream",
     "text": [
      "[450 600   3]  ->  761\n",
      "[542 722   3]  ->  2\n",
      "[545 722   3]  ->  1\n",
      "[576 767   3]  ->  9\n",
      "[602 639   3]  ->  1\n",
      "[640 964   3]  ->  1\n",
      "[649 965   3]  ->  1\n",
      "[674 962   3]  ->  1\n",
      "[ 674 1024    3]  ->  2\n",
      "[ 677 1024    3]  ->  7\n",
      "[ 678 1024    3]  ->  1\n",
      "[ 679 1024    3]  ->  10\n",
      "[ 680 1024    3]  ->  154\n",
      "[ 681 1024    3]  ->  9\n",
      "[ 682 1016    3]  ->  1\n",
      "[ 682 1024    3]  ->  8\n",
      "[ 683 1024    3]  ->  4\n",
      "[ 684 1024    3]  ->  5\n",
      "[ 685 1024    3]  ->  8\n",
      "[ 686 1024    3]  ->  1\n",
      "[ 687 1024    3]  ->  1\n",
      "[ 688 1024    3]  ->  1\n",
      "[ 689 1024    3]  ->  1\n",
      "[719 824   3]  ->  3\n",
      "[720 964   3]  ->  1\n",
      "[724 960   3]  ->  1\n",
      "[ 767 1022    3]  ->  2\n",
      "[ 768 1024    3]  ->  133\n",
      "[802 919   3]  ->  7\n",
      "[ 861 1024    3]  ->  1\n",
      "[ 878 1024    3]  ->  1\n",
      "[1024  857    3]  ->  1\n",
      "[1024 1024    3]  ->  2067\n"
     ]
    }
   ],
   "source": [
    "for value, count in zip(m_values, m_counts):\n",
    "    print(value, ' -> ', count)"
   ]
  },
  {
   "cell_type": "code",
   "execution_count": 7,
   "metadata": {},
   "outputs": [
    {
     "name": "stdout",
     "output_type": "stream",
     "text": [
      "[450 600   3]  ->  23.7%\n",
      "[542 722   3]  ->  0.1%\n",
      "[545 722   3]  ->  0.0%\n",
      "[576 767   3]  ->  0.3%\n",
      "[602 639   3]  ->  0.0%\n",
      "[640 964   3]  ->  0.0%\n",
      "[649 965   3]  ->  0.0%\n",
      "[674 962   3]  ->  0.0%\n",
      "[ 674 1024    3]  ->  0.1%\n",
      "[ 677 1024    3]  ->  0.2%\n",
      "[ 678 1024    3]  ->  0.0%\n",
      "[ 679 1024    3]  ->  0.3%\n",
      "[ 680 1024    3]  ->  4.8%\n",
      "[ 681 1024    3]  ->  0.3%\n",
      "[ 682 1016    3]  ->  0.0%\n",
      "[ 682 1024    3]  ->  0.2%\n",
      "[ 683 1024    3]  ->  0.1%\n",
      "[ 684 1024    3]  ->  0.2%\n",
      "[ 685 1024    3]  ->  0.2%\n",
      "[ 686 1024    3]  ->  0.0%\n",
      "[ 687 1024    3]  ->  0.0%\n",
      "[ 688 1024    3]  ->  0.0%\n",
      "[ 689 1024    3]  ->  0.0%\n",
      "[719 824   3]  ->  0.1%\n",
      "[720 964   3]  ->  0.0%\n",
      "[724 960   3]  ->  0.0%\n",
      "[ 767 1022    3]  ->  0.1%\n",
      "[ 768 1024    3]  ->  4.1%\n",
      "[802 919   3]  ->  0.2%\n",
      "[ 861 1024    3]  ->  0.0%\n",
      "[ 878 1024    3]  ->  0.0%\n",
      "[1024  857    3]  ->  0.0%\n",
      "[1024 1024    3]  ->  64.5%\n"
     ]
    }
   ],
   "source": [
    "total = sum(m_counts)\n",
    "for value, count in zip(m_values, m_counts):\n",
    "    print(value, ' -> ', '{:.1%}'.format(count / total))"
   ]
  },
  {
   "cell_type": "code",
   "execution_count": 8,
   "metadata": {},
   "outputs": [
    {
     "name": "stdout",
     "output_type": "stream",
     "text": [
      "[450 600   3]  ->  4793\n",
      "[542 718   3]  ->  2\n",
      "[542 722   3]  ->  3\n",
      "[542 725   3]  ->  1\n",
      "[543 722   3]  ->  1\n",
      "[576 767   3]  ->  33\n",
      "[638 959   3]  ->  1\n",
      "[639 959   3]  ->  1\n",
      "[640 957   3]  ->  1\n",
      "[641 962   3]  ->  1\n",
      "[ 669 1024    3]  ->  1\n",
      "[671 962   3]  ->  1\n",
      "[ 671 1024    3]  ->  1\n",
      "[672 964   3]  ->  1\n",
      "[ 672 1024    3]  ->  1\n",
      "[ 673 1024    3]  ->  3\n",
      "[674 962   3]  ->  5\n",
      "[ 674 1024    3]  ->  2\n",
      "[ 675 1024    3]  ->  1\n",
      "[676 962   3]  ->  1\n",
      "[ 676 1024    3]  ->  11\n",
      "[ 677 1024    3]  ->  19\n",
      "[ 678 1024    3]  ->  10\n",
      "[ 679 1024    3]  ->  41\n",
      "[680 853   3]  ->  1\n",
      "[ 680 1024    3]  ->  636\n",
      "[ 681 1024    3]  ->  48\n",
      "[682 796   3]  ->  1\n",
      "[ 682 1024    3]  ->  117\n",
      "[ 683 1024    3]  ->  22\n",
      "[ 684 1024    3]  ->  19\n",
      "[ 685 1024    3]  ->  91\n",
      "[ 686 1024    3]  ->  10\n",
      "[ 689 1024    3]  ->  2\n",
      "[ 690 1024    3]  ->  1\n",
      "[ 692 1024    3]  ->  2\n",
      "[ 704 1007    3]  ->  1\n",
      "[ 710 1024    3]  ->  1\n",
      "[ 711 1007    3]  ->  1\n",
      "[ 711 1008    3]  ->  1\n",
      "[ 711 1024    3]  ->  1\n",
      "[ 713 1011    3]  ->  1\n",
      "[ 715 1024    3]  ->  1\n",
      "[ 716 1024    3]  ->  8\n",
      "[ 717 1017    3]  ->  1\n",
      "[ 717 1019    3]  ->  1\n",
      "[719 824   3]  ->  7\n",
      "[722 962   3]  ->  2\n",
      "[723 957   3]  ->  1\n",
      "[723 962   3]  ->  1\n",
      "[ 750 1024    3]  ->  3\n",
      "[ 764 1024    3]  ->  59\n",
      "[ 767 1022    3]  ->  15\n",
      "[768 576   3]  ->  2\n",
      "[ 768 1024    3]  ->  420\n",
      "[ 782 1024    3]  ->  1\n",
      "[ 798 1024    3]  ->  1\n",
      "[802 919   3]  ->  31\n",
      "[ 858 1024    3]  ->  1\n",
      "[ 914 1024    3]  ->  1\n",
      "[ 930 1024    3]  ->  1\n",
      "[ 946 1024    3]  ->  1\n",
      "[ 961 1024    3]  ->  1\n",
      "[ 995 1024    3]  ->  1\n",
      "[1024 1024    3]  ->  5222\n"
     ]
    }
   ],
   "source": [
    "for value, count in zip(nm_values, nm_counts):\n",
    "    print(value, ' -> ', count)"
   ]
  },
  {
   "cell_type": "code",
   "execution_count": 9,
   "metadata": {},
   "outputs": [
    {
     "name": "stdout",
     "output_type": "stream",
     "text": [
      "[450 600   3]  ->  41.1%\n",
      "[542 718   3]  ->  0.0%\n",
      "[542 722   3]  ->  0.0%\n",
      "[542 725   3]  ->  0.0%\n",
      "[543 722   3]  ->  0.0%\n",
      "[576 767   3]  ->  0.3%\n",
      "[638 959   3]  ->  0.0%\n",
      "[639 959   3]  ->  0.0%\n",
      "[640 957   3]  ->  0.0%\n",
      "[641 962   3]  ->  0.0%\n",
      "[ 669 1024    3]  ->  0.0%\n",
      "[671 962   3]  ->  0.0%\n",
      "[ 671 1024    3]  ->  0.0%\n",
      "[672 964   3]  ->  0.0%\n",
      "[ 672 1024    3]  ->  0.0%\n",
      "[ 673 1024    3]  ->  0.0%\n",
      "[674 962   3]  ->  0.0%\n",
      "[ 674 1024    3]  ->  0.0%\n",
      "[ 675 1024    3]  ->  0.0%\n",
      "[676 962   3]  ->  0.0%\n",
      "[ 676 1024    3]  ->  0.1%\n",
      "[ 677 1024    3]  ->  0.2%\n",
      "[ 678 1024    3]  ->  0.1%\n",
      "[ 679 1024    3]  ->  0.4%\n",
      "[680 853   3]  ->  0.0%\n",
      "[ 680 1024    3]  ->  5.4%\n",
      "[ 681 1024    3]  ->  0.4%\n",
      "[682 796   3]  ->  0.0%\n",
      "[ 682 1024    3]  ->  1.0%\n",
      "[ 683 1024    3]  ->  0.2%\n",
      "[ 684 1024    3]  ->  0.2%\n",
      "[ 685 1024    3]  ->  0.8%\n",
      "[ 686 1024    3]  ->  0.1%\n",
      "[ 689 1024    3]  ->  0.0%\n",
      "[ 690 1024    3]  ->  0.0%\n",
      "[ 692 1024    3]  ->  0.0%\n",
      "[ 704 1007    3]  ->  0.0%\n",
      "[ 710 1024    3]  ->  0.0%\n",
      "[ 711 1007    3]  ->  0.0%\n",
      "[ 711 1008    3]  ->  0.0%\n",
      "[ 711 1024    3]  ->  0.0%\n",
      "[ 713 1011    3]  ->  0.0%\n",
      "[ 715 1024    3]  ->  0.0%\n",
      "[ 716 1024    3]  ->  0.1%\n",
      "[ 717 1017    3]  ->  0.0%\n",
      "[ 717 1019    3]  ->  0.0%\n",
      "[719 824   3]  ->  0.1%\n",
      "[722 962   3]  ->  0.0%\n",
      "[723 957   3]  ->  0.0%\n",
      "[723 962   3]  ->  0.0%\n",
      "[ 750 1024    3]  ->  0.0%\n",
      "[ 764 1024    3]  ->  0.5%\n",
      "[ 767 1022    3]  ->  0.1%\n",
      "[768 576   3]  ->  0.0%\n",
      "[ 768 1024    3]  ->  3.6%\n",
      "[ 782 1024    3]  ->  0.0%\n",
      "[ 798 1024    3]  ->  0.0%\n",
      "[802 919   3]  ->  0.3%\n",
      "[ 858 1024    3]  ->  0.0%\n",
      "[ 914 1024    3]  ->  0.0%\n",
      "[ 930 1024    3]  ->  0.0%\n",
      "[ 946 1024    3]  ->  0.0%\n",
      "[ 961 1024    3]  ->  0.0%\n",
      "[ 995 1024    3]  ->  0.0%\n",
      "[1024 1024    3]  ->  44.7%\n"
     ]
    }
   ],
   "source": [
    "total = sum(nm_counts)\n",
    "for value, count in zip(nm_values, nm_counts):\n",
    "    print(value, ' -> ', '{:.1%}'.format(count / total))"
   ]
  },
  {
   "cell_type": "code",
   "execution_count": 2,
   "metadata": {},
   "outputs": [
    {
     "data": {
      "text/plain": [
       "91.2"
      ]
     },
     "execution_count": 2,
     "metadata": {},
     "output_type": "execute_result"
    }
   ],
   "source": [
    "41.1 + 5.4 +  44.7"
   ]
  },
  {
   "cell_type": "code",
   "execution_count": null,
   "metadata": {},
   "outputs": [],
   "source": []
  }
 ],
 "metadata": {
  "kernelspec": {
   "display_name": "Python 3",
   "language": "python",
   "name": "python3"
  },
  "language_info": {
   "codemirror_mode": {
    "name": "ipython",
    "version": 3
   },
   "file_extension": ".py",
   "mimetype": "text/x-python",
   "name": "python",
   "nbconvert_exporter": "python",
   "pygments_lexer": "ipython3",
   "version": "3.7.3"
  }
 },
 "nbformat": 4,
 "nbformat_minor": 4
}
