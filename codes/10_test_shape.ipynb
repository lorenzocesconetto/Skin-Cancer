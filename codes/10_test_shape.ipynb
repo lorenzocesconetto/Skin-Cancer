{
 "cells": [
  {
   "cell_type": "code",
   "execution_count": 1,
   "metadata": {},
   "outputs": [],
   "source": [
    "from constants import *"
   ]
  },
  {
   "cell_type": "code",
   "execution_count": 2,
   "metadata": {},
   "outputs": [],
   "source": [
    "import matplotlib.pyplot as plt\n",
    "import glob\n",
    "import pandas as pd\n",
    "import os\n",
    "import numpy as np"
   ]
  },
  {
   "cell_type": "code",
   "execution_count": 3,
   "metadata": {},
   "outputs": [],
   "source": [
    "shapes_mel = []\n",
    "\n",
    "counter = 0\n",
    "files = list(map(lambda x: x.split('/')[-1], glob.glob(os.path.join(TRAIN_PATH, 'mel', '*.' + IMG_FORMAT))))\n",
    "for img in files:\n",
    "    counter += 1\n",
    "    shapes_mel.append(plt.imread(os.path.join('..', 'ISIC-2019', 'ISIC_2019_Training_Input', img)).shape)"
   ]
  },
  {
   "cell_type": "code",
   "execution_count": 4,
   "metadata": {},
   "outputs": [],
   "source": [
    "shapes_non_mel = []\n",
    "\n",
    "counter = 0\n",
    "files = list(map(lambda x: x.split('/')[-1], glob.glob(os.path.join(TRAIN_PATH, 'other', '*.' + IMG_FORMAT))))\n",
    "for img in files:\n",
    "    counter += 1\n",
    "    if str.isnumeric(img[0]) and img[1] == '_':\n",
    "        img = img[2:]\n",
    "    shapes_non_mel.append(plt.imread(os.path.join('..', 'ISIC-2019', 'ISIC_2019_Training_Input', img)).shape)"
   ]
  },
  {
   "cell_type": "markdown",
   "metadata": {},
   "source": [
    "# New pre-processing"
   ]
  },
  {
   "cell_type": "code",
   "execution_count": 6,
   "metadata": {},
   "outputs": [],
   "source": [
    "m_values, m_counts = np.unique(ar=shapes_mel, return_index=False, return_inverse=False, return_counts=True, axis=0)\n",
    "nm_values, nm_counts = np.unique(ar=shapes_non_mel, return_index=False, return_inverse=False, return_counts=True, axis=0)"
   ]
  },
  {
   "cell_type": "code",
   "execution_count": 8,
   "metadata": {},
   "outputs": [
    {
     "name": "stdout",
     "output_type": "stream",
     "text": [
      "[450 600   3]  ->  761\n",
      "[ 680 1024    3]  ->  154\n",
      "[1024 1024    3]  ->  2067\n"
     ]
    }
   ],
   "source": [
    "for value, count in zip(m_values, m_counts):\n",
    "    print(value, ' -> ', count)"
   ]
  },
  {
   "cell_type": "code",
   "execution_count": 9,
   "metadata": {},
   "outputs": [
    {
     "name": "stdout",
     "output_type": "stream",
     "text": [
      "[450 600   3]  ->  25.5%\n",
      "[ 680 1024    3]  ->  5.2%\n",
      "[1024 1024    3]  ->  69.3%\n"
     ]
    }
   ],
   "source": [
    "total = sum(m_counts)\n",
    "for value, count in zip(m_values, m_counts):\n",
    "    print(value, ' -> ', '{:.1%}'.format(count / total))"
   ]
  },
  {
   "cell_type": "code",
   "execution_count": 10,
   "metadata": {},
   "outputs": [
    {
     "name": "stdout",
     "output_type": "stream",
     "text": [
      "[450 600   3]  ->  4793\n",
      "[ 680 1024    3]  ->  636\n",
      "[1024 1024    3]  ->  5222\n"
     ]
    }
   ],
   "source": [
    "for value, count in zip(nm_values, nm_counts):\n",
    "    print(value, ' -> ', count)"
   ]
  },
  {
   "cell_type": "code",
   "execution_count": 11,
   "metadata": {},
   "outputs": [
    {
     "name": "stdout",
     "output_type": "stream",
     "text": [
      "[450 600   3]  ->  45.0%\n",
      "[ 680 1024    3]  ->  6.0%\n",
      "[1024 1024    3]  ->  49.0%\n"
     ]
    }
   ],
   "source": [
    "total = sum(nm_counts)\n",
    "for value, count in zip(nm_values, nm_counts):\n",
    "    print(value, ' -> ', '{:.1%}'.format(count / total))"
   ]
  },
  {
   "cell_type": "markdown",
   "metadata": {},
   "source": [
    "# Before (Old)"
   ]
  },
  {
   "cell_type": "code",
   "execution_count": 26,
   "metadata": {},
   "outputs": [
    {
     "data": {
      "text/plain": [
       "array([ 761,    2,    1,    9,    1,    1,    1,    1,    2,    7,    1,\n",
       "         10,  154,    9,    1,    8,    4,    5,    8,    1,    1,    1,\n",
       "          1,    3,    1,    1,    2,  133,    7,    1,    1,    1, 2067])"
      ]
     },
     "execution_count": 26,
     "metadata": {},
     "output_type": "execute_result"
    }
   ],
   "source": [
    "m_values, m_counts = np.unique(ar=shapes_mel, return_index=False, return_inverse=False, return_counts=True, axis=0)"
   ]
  },
  {
   "cell_type": "code",
   "execution_count": 27,
   "metadata": {},
   "outputs": [
    {
     "data": {
      "text/plain": [
       "array([4793,    2,    3,    1,    1,   33,    1,    1,    1,    1,    1,\n",
       "          1,    1,    1,    1,    3,    5,    2,    1,    1,   11,   19,\n",
       "         10,   41,    1,  636,   48,    1,  117,   22,   19,   91,   10,\n",
       "          2,    1,    2,    1,    1,    1,    1,    1,    1,    1,    8,\n",
       "          1,    1,    7,    2,    1,    1,    3,   59,   15,    2,  420,\n",
       "          1,    1,   31,    1,    1,    1,    1,    1,    1, 5222])"
      ]
     },
     "execution_count": 27,
     "metadata": {},
     "output_type": "execute_result"
    }
   ],
   "source": [
    "nm_values, nm_counts = np.unique(ar=shapes_non_mel, return_index=False, return_inverse=False, return_counts=True, axis=0)"
   ]
  },
  {
   "cell_type": "code",
   "execution_count": 38,
   "metadata": {},
   "outputs": [
    {
     "name": "stdout",
     "output_type": "stream",
     "text": [
      "[450 600   3]  ->  23.7%\n",
      "[542 722   3]  ->  0.1%\n",
      "[545 722   3]  ->  0.0%\n",
      "[576 767   3]  ->  0.3%\n",
      "[602 639   3]  ->  0.0%\n",
      "[640 964   3]  ->  0.0%\n",
      "[649 965   3]  ->  0.0%\n",
      "[674 962   3]  ->  0.0%\n",
      "[ 674 1024    3]  ->  0.1%\n",
      "[ 677 1024    3]  ->  0.2%\n",
      "[ 678 1024    3]  ->  0.0%\n",
      "[ 679 1024    3]  ->  0.3%\n",
      "[ 680 1024    3]  ->  4.8%\n",
      "[ 681 1024    3]  ->  0.3%\n",
      "[ 682 1016    3]  ->  0.0%\n",
      "[ 682 1024    3]  ->  0.2%\n",
      "[ 683 1024    3]  ->  0.1%\n",
      "[ 684 1024    3]  ->  0.2%\n",
      "[ 685 1024    3]  ->  0.2%\n",
      "[ 686 1024    3]  ->  0.0%\n",
      "[ 687 1024    3]  ->  0.0%\n",
      "[ 688 1024    3]  ->  0.0%\n",
      "[ 689 1024    3]  ->  0.0%\n",
      "[719 824   3]  ->  0.1%\n",
      "[720 964   3]  ->  0.0%\n",
      "[724 960   3]  ->  0.0%\n",
      "[ 767 1022    3]  ->  0.1%\n",
      "[ 768 1024    3]  ->  4.1%\n",
      "[802 919   3]  ->  0.2%\n",
      "[ 861 1024    3]  ->  0.0%\n",
      "[ 878 1024    3]  ->  0.0%\n",
      "[1024  857    3]  ->  0.0%\n",
      "[1024 1024    3]  ->  64.5%\n"
     ]
    }
   ],
   "source": [
    "total = sum(m_counts)\n",
    "for value, count in zip(m_values, m_counts):\n",
    "    print(value, ' -> ', '{:.1%}'.format(count / total))"
   ]
  },
  {
   "cell_type": "code",
   "execution_count": 1,
   "metadata": {},
   "outputs": [
    {
     "data": {
      "text/plain": [
       "93.0"
      ]
     },
     "execution_count": 1,
     "metadata": {},
     "output_type": "execute_result"
    }
   ],
   "source": [
    "23.7 + 4.8 + 64.5"
   ]
  },
  {
   "cell_type": "code",
   "execution_count": 39,
   "metadata": {},
   "outputs": [
    {
     "name": "stdout",
     "output_type": "stream",
     "text": [
      "[450 600   3]  ->  41.1%\n",
      "[542 718   3]  ->  0.0%\n",
      "[542 722   3]  ->  0.0%\n",
      "[542 725   3]  ->  0.0%\n",
      "[543 722   3]  ->  0.0%\n",
      "[576 767   3]  ->  0.3%\n",
      "[638 959   3]  ->  0.0%\n",
      "[639 959   3]  ->  0.0%\n",
      "[640 957   3]  ->  0.0%\n",
      "[641 962   3]  ->  0.0%\n",
      "[ 669 1024    3]  ->  0.0%\n",
      "[671 962   3]  ->  0.0%\n",
      "[ 671 1024    3]  ->  0.0%\n",
      "[672 964   3]  ->  0.0%\n",
      "[ 672 1024    3]  ->  0.0%\n",
      "[ 673 1024    3]  ->  0.0%\n",
      "[674 962   3]  ->  0.0%\n",
      "[ 674 1024    3]  ->  0.0%\n",
      "[ 675 1024    3]  ->  0.0%\n",
      "[676 962   3]  ->  0.0%\n",
      "[ 676 1024    3]  ->  0.1%\n",
      "[ 677 1024    3]  ->  0.2%\n",
      "[ 678 1024    3]  ->  0.1%\n",
      "[ 679 1024    3]  ->  0.4%\n",
      "[680 853   3]  ->  0.0%\n",
      "[ 680 1024    3]  ->  5.4%\n",
      "[ 681 1024    3]  ->  0.4%\n",
      "[682 796   3]  ->  0.0%\n",
      "[ 682 1024    3]  ->  1.0%\n",
      "[ 683 1024    3]  ->  0.2%\n",
      "[ 684 1024    3]  ->  0.2%\n",
      "[ 685 1024    3]  ->  0.8%\n",
      "[ 686 1024    3]  ->  0.1%\n",
      "[ 689 1024    3]  ->  0.0%\n",
      "[ 690 1024    3]  ->  0.0%\n",
      "[ 692 1024    3]  ->  0.0%\n",
      "[ 704 1007    3]  ->  0.0%\n",
      "[ 710 1024    3]  ->  0.0%\n",
      "[ 711 1007    3]  ->  0.0%\n",
      "[ 711 1008    3]  ->  0.0%\n",
      "[ 711 1024    3]  ->  0.0%\n",
      "[ 713 1011    3]  ->  0.0%\n",
      "[ 715 1024    3]  ->  0.0%\n",
      "[ 716 1024    3]  ->  0.1%\n",
      "[ 717 1017    3]  ->  0.0%\n",
      "[ 717 1019    3]  ->  0.0%\n",
      "[719 824   3]  ->  0.1%\n",
      "[722 962   3]  ->  0.0%\n",
      "[723 957   3]  ->  0.0%\n",
      "[723 962   3]  ->  0.0%\n",
      "[ 750 1024    3]  ->  0.0%\n",
      "[ 764 1024    3]  ->  0.5%\n",
      "[ 767 1022    3]  ->  0.1%\n",
      "[768 576   3]  ->  0.0%\n",
      "[ 768 1024    3]  ->  3.6%\n",
      "[ 782 1024    3]  ->  0.0%\n",
      "[ 798 1024    3]  ->  0.0%\n",
      "[802 919   3]  ->  0.3%\n",
      "[ 858 1024    3]  ->  0.0%\n",
      "[ 914 1024    3]  ->  0.0%\n",
      "[ 930 1024    3]  ->  0.0%\n",
      "[ 946 1024    3]  ->  0.0%\n",
      "[ 961 1024    3]  ->  0.0%\n",
      "[ 995 1024    3]  ->  0.0%\n",
      "[1024 1024    3]  ->  44.7%\n"
     ]
    }
   ],
   "source": [
    "total = sum(nm_counts)\n",
    "for value, count in zip(nm_values, nm_counts):\n",
    "    print(value, ' -> ', '{:.1%}'.format(count/total))"
   ]
  },
  {
   "cell_type": "code",
   "execution_count": 2,
   "metadata": {},
   "outputs": [
    {
     "data": {
      "text/plain": [
       "91.2"
      ]
     },
     "execution_count": 2,
     "metadata": {},
     "output_type": "execute_result"
    }
   ],
   "source": [
    "41.1 + 5.4 +  44.7"
   ]
  },
  {
   "cell_type": "code",
   "execution_count": null,
   "metadata": {},
   "outputs": [],
   "source": []
  }
 ],
 "metadata": {
  "kernelspec": {
   "display_name": "Python 3",
   "language": "python",
   "name": "python3"
  },
  "language_info": {
   "codemirror_mode": {
    "name": "ipython",
    "version": 3
   },
   "file_extension": ".py",
   "mimetype": "text/x-python",
   "name": "python",
   "nbconvert_exporter": "python",
   "pygments_lexer": "ipython3",
   "version": "3.7.3"
  }
 },
 "nbformat": 4,
 "nbformat_minor": 4
}
